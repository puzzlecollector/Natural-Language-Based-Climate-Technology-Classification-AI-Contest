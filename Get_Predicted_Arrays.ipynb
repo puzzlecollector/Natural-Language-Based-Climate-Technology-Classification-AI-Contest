{
  "nbformat": 4,
  "nbformat_minor": 0,
  "metadata": {
    "colab": {
      "name": "Get_Predicted_Arrays.ipynb",
      "provenance": [],
      "collapsed_sections": [],
      "machine_shape": "hm"
    },
    "kernelspec": {
      "name": "python3",
      "display_name": "Python 3"
    },
    "language_info": {
      "name": "python"
    },
    "accelerator": "GPU",
    "widgets": {
      "application/vnd.jupyter.widget-state+json": {
        "9bccd0b4aee04738835793abe86de1a6": {
          "model_module": "@jupyter-widgets/controls",
          "model_name": "HBoxModel",
          "model_module_version": "1.5.0",
          "state": {
            "_view_name": "HBoxView",
            "_dom_classes": [],
            "_model_name": "HBoxModel",
            "_view_module": "@jupyter-widgets/controls",
            "_model_module_version": "1.5.0",
            "_view_count": null,
            "_view_module_version": "1.5.0",
            "box_style": "",
            "layout": "IPY_MODEL_a06eb03ce9e84d3db105ad69071ab97d",
            "_model_module": "@jupyter-widgets/controls",
            "children": [
              "IPY_MODEL_b04ae4cc7aba4c10b61eb40d4d90793c",
              "IPY_MODEL_2cbc8103c540483188f620f24215d0f2"
            ]
          }
        },
        "a06eb03ce9e84d3db105ad69071ab97d": {
          "model_module": "@jupyter-widgets/base",
          "model_name": "LayoutModel",
          "model_module_version": "1.2.0",
          "state": {
            "_view_name": "LayoutView",
            "grid_template_rows": null,
            "right": null,
            "justify_content": null,
            "_view_module": "@jupyter-widgets/base",
            "overflow": null,
            "_model_module_version": "1.2.0",
            "_view_count": null,
            "flex_flow": null,
            "width": null,
            "min_width": null,
            "border": null,
            "align_items": null,
            "bottom": null,
            "_model_module": "@jupyter-widgets/base",
            "top": null,
            "grid_column": null,
            "overflow_y": null,
            "overflow_x": null,
            "grid_auto_flow": null,
            "grid_area": null,
            "grid_template_columns": null,
            "flex": null,
            "_model_name": "LayoutModel",
            "justify_items": null,
            "grid_row": null,
            "max_height": null,
            "align_content": null,
            "visibility": null,
            "align_self": null,
            "height": null,
            "min_height": null,
            "padding": null,
            "grid_auto_rows": null,
            "grid_gap": null,
            "max_width": null,
            "order": null,
            "_view_module_version": "1.2.0",
            "grid_template_areas": null,
            "object_position": null,
            "object_fit": null,
            "grid_auto_columns": null,
            "margin": null,
            "display": null,
            "left": null
          }
        },
        "b04ae4cc7aba4c10b61eb40d4d90793c": {
          "model_module": "@jupyter-widgets/controls",
          "model_name": "FloatProgressModel",
          "model_module_version": "1.5.0",
          "state": {
            "_view_name": "ProgressView",
            "style": "IPY_MODEL_9d8e56799f054bdc84bc0bf4de0e1370",
            "_dom_classes": [],
            "description": "Downloading: 100%",
            "_model_name": "FloatProgressModel",
            "bar_style": "success",
            "max": 512,
            "_view_module": "@jupyter-widgets/controls",
            "_model_module_version": "1.5.0",
            "value": 512,
            "_view_count": null,
            "_view_module_version": "1.5.0",
            "orientation": "horizontal",
            "min": 0,
            "description_tooltip": null,
            "_model_module": "@jupyter-widgets/controls",
            "layout": "IPY_MODEL_d5a2244fe6924f32a4aed58920552a4b"
          }
        },
        "2cbc8103c540483188f620f24215d0f2": {
          "model_module": "@jupyter-widgets/controls",
          "model_name": "HTMLModel",
          "model_module_version": "1.5.0",
          "state": {
            "_view_name": "HTMLView",
            "style": "IPY_MODEL_c778822113854faaa5d06e475e2d9c5b",
            "_dom_classes": [],
            "description": "",
            "_model_name": "HTMLModel",
            "placeholder": "​",
            "_view_module": "@jupyter-widgets/controls",
            "_model_module_version": "1.5.0",
            "value": " 512/512 [00:00&lt;00:00, 1.66kB/s]",
            "_view_count": null,
            "_view_module_version": "1.5.0",
            "description_tooltip": null,
            "_model_module": "@jupyter-widgets/controls",
            "layout": "IPY_MODEL_ddf1a5c061594f8a84ca5c87aa65377b"
          }
        },
        "9d8e56799f054bdc84bc0bf4de0e1370": {
          "model_module": "@jupyter-widgets/controls",
          "model_name": "ProgressStyleModel",
          "model_module_version": "1.5.0",
          "state": {
            "_view_name": "StyleView",
            "_model_name": "ProgressStyleModel",
            "description_width": "initial",
            "_view_module": "@jupyter-widgets/base",
            "_model_module_version": "1.5.0",
            "_view_count": null,
            "_view_module_version": "1.2.0",
            "bar_color": null,
            "_model_module": "@jupyter-widgets/controls"
          }
        },
        "d5a2244fe6924f32a4aed58920552a4b": {
          "model_module": "@jupyter-widgets/base",
          "model_name": "LayoutModel",
          "model_module_version": "1.2.0",
          "state": {
            "_view_name": "LayoutView",
            "grid_template_rows": null,
            "right": null,
            "justify_content": null,
            "_view_module": "@jupyter-widgets/base",
            "overflow": null,
            "_model_module_version": "1.2.0",
            "_view_count": null,
            "flex_flow": null,
            "width": null,
            "min_width": null,
            "border": null,
            "align_items": null,
            "bottom": null,
            "_model_module": "@jupyter-widgets/base",
            "top": null,
            "grid_column": null,
            "overflow_y": null,
            "overflow_x": null,
            "grid_auto_flow": null,
            "grid_area": null,
            "grid_template_columns": null,
            "flex": null,
            "_model_name": "LayoutModel",
            "justify_items": null,
            "grid_row": null,
            "max_height": null,
            "align_content": null,
            "visibility": null,
            "align_self": null,
            "height": null,
            "min_height": null,
            "padding": null,
            "grid_auto_rows": null,
            "grid_gap": null,
            "max_width": null,
            "order": null,
            "_view_module_version": "1.2.0",
            "grid_template_areas": null,
            "object_position": null,
            "object_fit": null,
            "grid_auto_columns": null,
            "margin": null,
            "display": null,
            "left": null
          }
        },
        "c778822113854faaa5d06e475e2d9c5b": {
          "model_module": "@jupyter-widgets/controls",
          "model_name": "DescriptionStyleModel",
          "model_module_version": "1.5.0",
          "state": {
            "_view_name": "StyleView",
            "_model_name": "DescriptionStyleModel",
            "description_width": "",
            "_view_module": "@jupyter-widgets/base",
            "_model_module_version": "1.5.0",
            "_view_count": null,
            "_view_module_version": "1.2.0",
            "_model_module": "@jupyter-widgets/controls"
          }
        },
        "ddf1a5c061594f8a84ca5c87aa65377b": {
          "model_module": "@jupyter-widgets/base",
          "model_name": "LayoutModel",
          "model_module_version": "1.2.0",
          "state": {
            "_view_name": "LayoutView",
            "grid_template_rows": null,
            "right": null,
            "justify_content": null,
            "_view_module": "@jupyter-widgets/base",
            "overflow": null,
            "_model_module_version": "1.2.0",
            "_view_count": null,
            "flex_flow": null,
            "width": null,
            "min_width": null,
            "border": null,
            "align_items": null,
            "bottom": null,
            "_model_module": "@jupyter-widgets/base",
            "top": null,
            "grid_column": null,
            "overflow_y": null,
            "overflow_x": null,
            "grid_auto_flow": null,
            "grid_area": null,
            "grid_template_columns": null,
            "flex": null,
            "_model_name": "LayoutModel",
            "justify_items": null,
            "grid_row": null,
            "max_height": null,
            "align_content": null,
            "visibility": null,
            "align_self": null,
            "height": null,
            "min_height": null,
            "padding": null,
            "grid_auto_rows": null,
            "grid_gap": null,
            "max_width": null,
            "order": null,
            "_view_module_version": "1.2.0",
            "grid_template_areas": null,
            "object_position": null,
            "object_fit": null,
            "grid_auto_columns": null,
            "margin": null,
            "display": null,
            "left": null
          }
        },
        "2bca45b5a94147fdab1d0789bf0c0f71": {
          "model_module": "@jupyter-widgets/controls",
          "model_name": "HBoxModel",
          "model_module_version": "1.5.0",
          "state": {
            "_view_name": "HBoxView",
            "_dom_classes": [],
            "_model_name": "HBoxModel",
            "_view_module": "@jupyter-widgets/controls",
            "_model_module_version": "1.5.0",
            "_view_count": null,
            "_view_module_version": "1.5.0",
            "box_style": "",
            "layout": "IPY_MODEL_182e43e1341b413fb39344421d782d6c",
            "_model_module": "@jupyter-widgets/controls",
            "children": [
              "IPY_MODEL_e190929a83ab457f90ddef4860152ca9",
              "IPY_MODEL_8efc92e27c3c483bb2379462c97f5b10"
            ]
          }
        },
        "182e43e1341b413fb39344421d782d6c": {
          "model_module": "@jupyter-widgets/base",
          "model_name": "LayoutModel",
          "model_module_version": "1.2.0",
          "state": {
            "_view_name": "LayoutView",
            "grid_template_rows": null,
            "right": null,
            "justify_content": null,
            "_view_module": "@jupyter-widgets/base",
            "overflow": null,
            "_model_module_version": "1.2.0",
            "_view_count": null,
            "flex_flow": null,
            "width": null,
            "min_width": null,
            "border": null,
            "align_items": null,
            "bottom": null,
            "_model_module": "@jupyter-widgets/base",
            "top": null,
            "grid_column": null,
            "overflow_y": null,
            "overflow_x": null,
            "grid_auto_flow": null,
            "grid_area": null,
            "grid_template_columns": null,
            "flex": null,
            "_model_name": "LayoutModel",
            "justify_items": null,
            "grid_row": null,
            "max_height": null,
            "align_content": null,
            "visibility": null,
            "align_self": null,
            "height": null,
            "min_height": null,
            "padding": null,
            "grid_auto_rows": null,
            "grid_gap": null,
            "max_width": null,
            "order": null,
            "_view_module_version": "1.2.0",
            "grid_template_areas": null,
            "object_position": null,
            "object_fit": null,
            "grid_auto_columns": null,
            "margin": null,
            "display": null,
            "left": null
          }
        },
        "e190929a83ab457f90ddef4860152ca9": {
          "model_module": "@jupyter-widgets/controls",
          "model_name": "FloatProgressModel",
          "model_module_version": "1.5.0",
          "state": {
            "_view_name": "ProgressView",
            "style": "IPY_MODEL_913bac3b86be47c48825edf5ff7b5964",
            "_dom_classes": [],
            "description": "Downloading: 100%",
            "_model_name": "FloatProgressModel",
            "bar_style": "success",
            "max": 1115590446,
            "_view_module": "@jupyter-widgets/controls",
            "_model_module_version": "1.5.0",
            "value": 1115590446,
            "_view_count": null,
            "_view_module_version": "1.5.0",
            "orientation": "horizontal",
            "min": 0,
            "description_tooltip": null,
            "_model_module": "@jupyter-widgets/controls",
            "layout": "IPY_MODEL_574349806f24475d9e2576b0e2e90ef8"
          }
        },
        "8efc92e27c3c483bb2379462c97f5b10": {
          "model_module": "@jupyter-widgets/controls",
          "model_name": "HTMLModel",
          "model_module_version": "1.5.0",
          "state": {
            "_view_name": "HTMLView",
            "style": "IPY_MODEL_51eded3479d044e3abdf807a67d595a2",
            "_dom_classes": [],
            "description": "",
            "_model_name": "HTMLModel",
            "placeholder": "​",
            "_view_module": "@jupyter-widgets/controls",
            "_model_module_version": "1.5.0",
            "value": " 1.12G/1.12G [00:28&lt;00:00, 39.8MB/s]",
            "_view_count": null,
            "_view_module_version": "1.5.0",
            "description_tooltip": null,
            "_model_module": "@jupyter-widgets/controls",
            "layout": "IPY_MODEL_8eeece6a34034aec9c54788457912ab5"
          }
        },
        "913bac3b86be47c48825edf5ff7b5964": {
          "model_module": "@jupyter-widgets/controls",
          "model_name": "ProgressStyleModel",
          "model_module_version": "1.5.0",
          "state": {
            "_view_name": "StyleView",
            "_model_name": "ProgressStyleModel",
            "description_width": "initial",
            "_view_module": "@jupyter-widgets/base",
            "_model_module_version": "1.5.0",
            "_view_count": null,
            "_view_module_version": "1.2.0",
            "bar_color": null,
            "_model_module": "@jupyter-widgets/controls"
          }
        },
        "574349806f24475d9e2576b0e2e90ef8": {
          "model_module": "@jupyter-widgets/base",
          "model_name": "LayoutModel",
          "model_module_version": "1.2.0",
          "state": {
            "_view_name": "LayoutView",
            "grid_template_rows": null,
            "right": null,
            "justify_content": null,
            "_view_module": "@jupyter-widgets/base",
            "overflow": null,
            "_model_module_version": "1.2.0",
            "_view_count": null,
            "flex_flow": null,
            "width": null,
            "min_width": null,
            "border": null,
            "align_items": null,
            "bottom": null,
            "_model_module": "@jupyter-widgets/base",
            "top": null,
            "grid_column": null,
            "overflow_y": null,
            "overflow_x": null,
            "grid_auto_flow": null,
            "grid_area": null,
            "grid_template_columns": null,
            "flex": null,
            "_model_name": "LayoutModel",
            "justify_items": null,
            "grid_row": null,
            "max_height": null,
            "align_content": null,
            "visibility": null,
            "align_self": null,
            "height": null,
            "min_height": null,
            "padding": null,
            "grid_auto_rows": null,
            "grid_gap": null,
            "max_width": null,
            "order": null,
            "_view_module_version": "1.2.0",
            "grid_template_areas": null,
            "object_position": null,
            "object_fit": null,
            "grid_auto_columns": null,
            "margin": null,
            "display": null,
            "left": null
          }
        },
        "51eded3479d044e3abdf807a67d595a2": {
          "model_module": "@jupyter-widgets/controls",
          "model_name": "DescriptionStyleModel",
          "model_module_version": "1.5.0",
          "state": {
            "_view_name": "StyleView",
            "_model_name": "DescriptionStyleModel",
            "description_width": "",
            "_view_module": "@jupyter-widgets/base",
            "_model_module_version": "1.5.0",
            "_view_count": null,
            "_view_module_version": "1.2.0",
            "_model_module": "@jupyter-widgets/controls"
          }
        },
        "8eeece6a34034aec9c54788457912ab5": {
          "model_module": "@jupyter-widgets/base",
          "model_name": "LayoutModel",
          "model_module_version": "1.2.0",
          "state": {
            "_view_name": "LayoutView",
            "grid_template_rows": null,
            "right": null,
            "justify_content": null,
            "_view_module": "@jupyter-widgets/base",
            "overflow": null,
            "_model_module_version": "1.2.0",
            "_view_count": null,
            "flex_flow": null,
            "width": null,
            "min_width": null,
            "border": null,
            "align_items": null,
            "bottom": null,
            "_model_module": "@jupyter-widgets/base",
            "top": null,
            "grid_column": null,
            "overflow_y": null,
            "overflow_x": null,
            "grid_auto_flow": null,
            "grid_area": null,
            "grid_template_columns": null,
            "flex": null,
            "_model_name": "LayoutModel",
            "justify_items": null,
            "grid_row": null,
            "max_height": null,
            "align_content": null,
            "visibility": null,
            "align_self": null,
            "height": null,
            "min_height": null,
            "padding": null,
            "grid_auto_rows": null,
            "grid_gap": null,
            "max_width": null,
            "order": null,
            "_view_module_version": "1.2.0",
            "grid_template_areas": null,
            "object_position": null,
            "object_fit": null,
            "grid_auto_columns": null,
            "margin": null,
            "display": null,
            "left": null
          }
        },
        "197d167189be492ba05948f556064fdd": {
          "model_module": "@jupyter-widgets/controls",
          "model_name": "HBoxModel",
          "model_module_version": "1.5.0",
          "state": {
            "_view_name": "HBoxView",
            "_dom_classes": [],
            "_model_name": "HBoxModel",
            "_view_module": "@jupyter-widgets/controls",
            "_model_module_version": "1.5.0",
            "_view_count": null,
            "_view_module_version": "1.5.0",
            "box_style": "",
            "layout": "IPY_MODEL_9fade435a0e64fedb60ce69151ef9340",
            "_model_module": "@jupyter-widgets/controls",
            "children": [
              "IPY_MODEL_e9ce0261d77a410bac2b9baeead63c10",
              "IPY_MODEL_ab11a78064ae4794b1065bdb5a39930c"
            ]
          }
        },
        "9fade435a0e64fedb60ce69151ef9340": {
          "model_module": "@jupyter-widgets/base",
          "model_name": "LayoutModel",
          "model_module_version": "1.2.0",
          "state": {
            "_view_name": "LayoutView",
            "grid_template_rows": null,
            "right": null,
            "justify_content": null,
            "_view_module": "@jupyter-widgets/base",
            "overflow": null,
            "_model_module_version": "1.2.0",
            "_view_count": null,
            "flex_flow": null,
            "width": null,
            "min_width": null,
            "border": null,
            "align_items": null,
            "bottom": null,
            "_model_module": "@jupyter-widgets/base",
            "top": null,
            "grid_column": null,
            "overflow_y": null,
            "overflow_x": null,
            "grid_auto_flow": null,
            "grid_area": null,
            "grid_template_columns": null,
            "flex": null,
            "_model_name": "LayoutModel",
            "justify_items": null,
            "grid_row": null,
            "max_height": null,
            "align_content": null,
            "visibility": null,
            "align_self": null,
            "height": null,
            "min_height": null,
            "padding": null,
            "grid_auto_rows": null,
            "grid_gap": null,
            "max_width": null,
            "order": null,
            "_view_module_version": "1.2.0",
            "grid_template_areas": null,
            "object_position": null,
            "object_fit": null,
            "grid_auto_columns": null,
            "margin": null,
            "display": null,
            "left": null
          }
        },
        "e9ce0261d77a410bac2b9baeead63c10": {
          "model_module": "@jupyter-widgets/controls",
          "model_name": "FloatProgressModel",
          "model_module_version": "1.5.0",
          "state": {
            "_view_name": "ProgressView",
            "style": "IPY_MODEL_7ffb3b9ada5842aea56312e83c8e6a96",
            "_dom_classes": [],
            "description": "Downloading: 100%",
            "_model_name": "FloatProgressModel",
            "bar_style": "success",
            "max": 5069051,
            "_view_module": "@jupyter-widgets/controls",
            "_model_module_version": "1.5.0",
            "value": 5069051,
            "_view_count": null,
            "_view_module_version": "1.5.0",
            "orientation": "horizontal",
            "min": 0,
            "description_tooltip": null,
            "_model_module": "@jupyter-widgets/controls",
            "layout": "IPY_MODEL_786e04fc7ea74c6e86100f86b8a387c3"
          }
        },
        "ab11a78064ae4794b1065bdb5a39930c": {
          "model_module": "@jupyter-widgets/controls",
          "model_name": "HTMLModel",
          "model_module_version": "1.5.0",
          "state": {
            "_view_name": "HTMLView",
            "style": "IPY_MODEL_151d033184474e6cb65e6f213cd1c9f1",
            "_dom_classes": [],
            "description": "",
            "_model_name": "HTMLModel",
            "placeholder": "​",
            "_view_module": "@jupyter-widgets/controls",
            "_model_module_version": "1.5.0",
            "value": " 5.07M/5.07M [00:02&lt;00:00, 1.93MB/s]",
            "_view_count": null,
            "_view_module_version": "1.5.0",
            "description_tooltip": null,
            "_model_module": "@jupyter-widgets/controls",
            "layout": "IPY_MODEL_35413132db0c4c2ebf123cdfd08df929"
          }
        },
        "7ffb3b9ada5842aea56312e83c8e6a96": {
          "model_module": "@jupyter-widgets/controls",
          "model_name": "ProgressStyleModel",
          "model_module_version": "1.5.0",
          "state": {
            "_view_name": "StyleView",
            "_model_name": "ProgressStyleModel",
            "description_width": "initial",
            "_view_module": "@jupyter-widgets/base",
            "_model_module_version": "1.5.0",
            "_view_count": null,
            "_view_module_version": "1.2.0",
            "bar_color": null,
            "_model_module": "@jupyter-widgets/controls"
          }
        },
        "786e04fc7ea74c6e86100f86b8a387c3": {
          "model_module": "@jupyter-widgets/base",
          "model_name": "LayoutModel",
          "model_module_version": "1.2.0",
          "state": {
            "_view_name": "LayoutView",
            "grid_template_rows": null,
            "right": null,
            "justify_content": null,
            "_view_module": "@jupyter-widgets/base",
            "overflow": null,
            "_model_module_version": "1.2.0",
            "_view_count": null,
            "flex_flow": null,
            "width": null,
            "min_width": null,
            "border": null,
            "align_items": null,
            "bottom": null,
            "_model_module": "@jupyter-widgets/base",
            "top": null,
            "grid_column": null,
            "overflow_y": null,
            "overflow_x": null,
            "grid_auto_flow": null,
            "grid_area": null,
            "grid_template_columns": null,
            "flex": null,
            "_model_name": "LayoutModel",
            "justify_items": null,
            "grid_row": null,
            "max_height": null,
            "align_content": null,
            "visibility": null,
            "align_self": null,
            "height": null,
            "min_height": null,
            "padding": null,
            "grid_auto_rows": null,
            "grid_gap": null,
            "max_width": null,
            "order": null,
            "_view_module_version": "1.2.0",
            "grid_template_areas": null,
            "object_position": null,
            "object_fit": null,
            "grid_auto_columns": null,
            "margin": null,
            "display": null,
            "left": null
          }
        },
        "151d033184474e6cb65e6f213cd1c9f1": {
          "model_module": "@jupyter-widgets/controls",
          "model_name": "DescriptionStyleModel",
          "model_module_version": "1.5.0",
          "state": {
            "_view_name": "StyleView",
            "_model_name": "DescriptionStyleModel",
            "description_width": "",
            "_view_module": "@jupyter-widgets/base",
            "_model_module_version": "1.5.0",
            "_view_count": null,
            "_view_module_version": "1.2.0",
            "_model_module": "@jupyter-widgets/controls"
          }
        },
        "35413132db0c4c2ebf123cdfd08df929": {
          "model_module": "@jupyter-widgets/base",
          "model_name": "LayoutModel",
          "model_module_version": "1.2.0",
          "state": {
            "_view_name": "LayoutView",
            "grid_template_rows": null,
            "right": null,
            "justify_content": null,
            "_view_module": "@jupyter-widgets/base",
            "overflow": null,
            "_model_module_version": "1.2.0",
            "_view_count": null,
            "flex_flow": null,
            "width": null,
            "min_width": null,
            "border": null,
            "align_items": null,
            "bottom": null,
            "_model_module": "@jupyter-widgets/base",
            "top": null,
            "grid_column": null,
            "overflow_y": null,
            "overflow_x": null,
            "grid_auto_flow": null,
            "grid_area": null,
            "grid_template_columns": null,
            "flex": null,
            "_model_name": "LayoutModel",
            "justify_items": null,
            "grid_row": null,
            "max_height": null,
            "align_content": null,
            "visibility": null,
            "align_self": null,
            "height": null,
            "min_height": null,
            "padding": null,
            "grid_auto_rows": null,
            "grid_gap": null,
            "max_width": null,
            "order": null,
            "_view_module_version": "1.2.0",
            "grid_template_areas": null,
            "object_position": null,
            "object_fit": null,
            "grid_auto_columns": null,
            "margin": null,
            "display": null,
            "left": null
          }
        },
        "feb6005801b6457f9b888a511cb4caf2": {
          "model_module": "@jupyter-widgets/controls",
          "model_name": "HBoxModel",
          "model_module_version": "1.5.0",
          "state": {
            "_view_name": "HBoxView",
            "_dom_classes": [],
            "_model_name": "HBoxModel",
            "_view_module": "@jupyter-widgets/controls",
            "_model_module_version": "1.5.0",
            "_view_count": null,
            "_view_module_version": "1.5.0",
            "box_style": "",
            "layout": "IPY_MODEL_bb54ab29614b401db9f94c397fd883c5",
            "_model_module": "@jupyter-widgets/controls",
            "children": [
              "IPY_MODEL_514e77ef4e2548db8ac41d9820e72b6a",
              "IPY_MODEL_d7e46cce32674d16858ad862067e82f7"
            ]
          }
        },
        "bb54ab29614b401db9f94c397fd883c5": {
          "model_module": "@jupyter-widgets/base",
          "model_name": "LayoutModel",
          "model_module_version": "1.2.0",
          "state": {
            "_view_name": "LayoutView",
            "grid_template_rows": null,
            "right": null,
            "justify_content": null,
            "_view_module": "@jupyter-widgets/base",
            "overflow": null,
            "_model_module_version": "1.2.0",
            "_view_count": null,
            "flex_flow": null,
            "width": null,
            "min_width": null,
            "border": null,
            "align_items": null,
            "bottom": null,
            "_model_module": "@jupyter-widgets/base",
            "top": null,
            "grid_column": null,
            "overflow_y": null,
            "overflow_x": null,
            "grid_auto_flow": null,
            "grid_area": null,
            "grid_template_columns": null,
            "flex": null,
            "_model_name": "LayoutModel",
            "justify_items": null,
            "grid_row": null,
            "max_height": null,
            "align_content": null,
            "visibility": null,
            "align_self": null,
            "height": null,
            "min_height": null,
            "padding": null,
            "grid_auto_rows": null,
            "grid_gap": null,
            "max_width": null,
            "order": null,
            "_view_module_version": "1.2.0",
            "grid_template_areas": null,
            "object_position": null,
            "object_fit": null,
            "grid_auto_columns": null,
            "margin": null,
            "display": null,
            "left": null
          }
        },
        "514e77ef4e2548db8ac41d9820e72b6a": {
          "model_module": "@jupyter-widgets/controls",
          "model_name": "FloatProgressModel",
          "model_module_version": "1.5.0",
          "state": {
            "_view_name": "ProgressView",
            "style": "IPY_MODEL_d06d85600647445cb723e0d9b932fb85",
            "_dom_classes": [],
            "description": "Downloading: 100%",
            "_model_name": "FloatProgressModel",
            "bar_style": "success",
            "max": 9096718,
            "_view_module": "@jupyter-widgets/controls",
            "_model_module_version": "1.5.0",
            "value": 9096718,
            "_view_count": null,
            "_view_module_version": "1.5.0",
            "orientation": "horizontal",
            "min": 0,
            "description_tooltip": null,
            "_model_module": "@jupyter-widgets/controls",
            "layout": "IPY_MODEL_27605ce9bb3144cba5687eb8d7d2bd08"
          }
        },
        "d7e46cce32674d16858ad862067e82f7": {
          "model_module": "@jupyter-widgets/controls",
          "model_name": "HTMLModel",
          "model_module_version": "1.5.0",
          "state": {
            "_view_name": "HTMLView",
            "style": "IPY_MODEL_d82d617511cf4bb8b7f1af8ec712b0ec",
            "_dom_classes": [],
            "description": "",
            "_model_name": "HTMLModel",
            "placeholder": "​",
            "_view_module": "@jupyter-widgets/controls",
            "_model_module_version": "1.5.0",
            "value": " 9.10M/9.10M [00:00&lt;00:00, 18.6MB/s]",
            "_view_count": null,
            "_view_module_version": "1.5.0",
            "description_tooltip": null,
            "_model_module": "@jupyter-widgets/controls",
            "layout": "IPY_MODEL_7eba8848cf25439a822d2612812079cb"
          }
        },
        "d06d85600647445cb723e0d9b932fb85": {
          "model_module": "@jupyter-widgets/controls",
          "model_name": "ProgressStyleModel",
          "model_module_version": "1.5.0",
          "state": {
            "_view_name": "StyleView",
            "_model_name": "ProgressStyleModel",
            "description_width": "initial",
            "_view_module": "@jupyter-widgets/base",
            "_model_module_version": "1.5.0",
            "_view_count": null,
            "_view_module_version": "1.2.0",
            "bar_color": null,
            "_model_module": "@jupyter-widgets/controls"
          }
        },
        "27605ce9bb3144cba5687eb8d7d2bd08": {
          "model_module": "@jupyter-widgets/base",
          "model_name": "LayoutModel",
          "model_module_version": "1.2.0",
          "state": {
            "_view_name": "LayoutView",
            "grid_template_rows": null,
            "right": null,
            "justify_content": null,
            "_view_module": "@jupyter-widgets/base",
            "overflow": null,
            "_model_module_version": "1.2.0",
            "_view_count": null,
            "flex_flow": null,
            "width": null,
            "min_width": null,
            "border": null,
            "align_items": null,
            "bottom": null,
            "_model_module": "@jupyter-widgets/base",
            "top": null,
            "grid_column": null,
            "overflow_y": null,
            "overflow_x": null,
            "grid_auto_flow": null,
            "grid_area": null,
            "grid_template_columns": null,
            "flex": null,
            "_model_name": "LayoutModel",
            "justify_items": null,
            "grid_row": null,
            "max_height": null,
            "align_content": null,
            "visibility": null,
            "align_self": null,
            "height": null,
            "min_height": null,
            "padding": null,
            "grid_auto_rows": null,
            "grid_gap": null,
            "max_width": null,
            "order": null,
            "_view_module_version": "1.2.0",
            "grid_template_areas": null,
            "object_position": null,
            "object_fit": null,
            "grid_auto_columns": null,
            "margin": null,
            "display": null,
            "left": null
          }
        },
        "d82d617511cf4bb8b7f1af8ec712b0ec": {
          "model_module": "@jupyter-widgets/controls",
          "model_name": "DescriptionStyleModel",
          "model_module_version": "1.5.0",
          "state": {
            "_view_name": "StyleView",
            "_model_name": "DescriptionStyleModel",
            "description_width": "",
            "_view_module": "@jupyter-widgets/base",
            "_model_module_version": "1.5.0",
            "_view_count": null,
            "_view_module_version": "1.2.0",
            "_model_module": "@jupyter-widgets/controls"
          }
        },
        "7eba8848cf25439a822d2612812079cb": {
          "model_module": "@jupyter-widgets/base",
          "model_name": "LayoutModel",
          "model_module_version": "1.2.0",
          "state": {
            "_view_name": "LayoutView",
            "grid_template_rows": null,
            "right": null,
            "justify_content": null,
            "_view_module": "@jupyter-widgets/base",
            "overflow": null,
            "_model_module_version": "1.2.0",
            "_view_count": null,
            "flex_flow": null,
            "width": null,
            "min_width": null,
            "border": null,
            "align_items": null,
            "bottom": null,
            "_model_module": "@jupyter-widgets/base",
            "top": null,
            "grid_column": null,
            "overflow_y": null,
            "overflow_x": null,
            "grid_auto_flow": null,
            "grid_area": null,
            "grid_template_columns": null,
            "flex": null,
            "_model_name": "LayoutModel",
            "justify_items": null,
            "grid_row": null,
            "max_height": null,
            "align_content": null,
            "visibility": null,
            "align_self": null,
            "height": null,
            "min_height": null,
            "padding": null,
            "grid_auto_rows": null,
            "grid_gap": null,
            "max_width": null,
            "order": null,
            "_view_module_version": "1.2.0",
            "grid_template_areas": null,
            "object_position": null,
            "object_fit": null,
            "grid_auto_columns": null,
            "margin": null,
            "display": null,
            "left": null
          }
        },
        "b2350347444d4f9f99f66cdb1be65f19": {
          "model_module": "@jupyter-widgets/controls",
          "model_name": "HBoxModel",
          "model_module_version": "1.5.0",
          "state": {
            "_view_name": "HBoxView",
            "_dom_classes": [],
            "_model_name": "HBoxModel",
            "_view_module": "@jupyter-widgets/controls",
            "_model_module_version": "1.5.0",
            "_view_count": null,
            "_view_module_version": "1.5.0",
            "box_style": "",
            "layout": "IPY_MODEL_fa5855215360404586de13517b304dbc",
            "_model_module": "@jupyter-widgets/controls",
            "children": [
              "IPY_MODEL_1cb2a603b6e745f899b541720e3a9731",
              "IPY_MODEL_3d2559f26ab84b6781e93963e2b3cd33"
            ]
          }
        },
        "fa5855215360404586de13517b304dbc": {
          "model_module": "@jupyter-widgets/base",
          "model_name": "LayoutModel",
          "model_module_version": "1.2.0",
          "state": {
            "_view_name": "LayoutView",
            "grid_template_rows": null,
            "right": null,
            "justify_content": null,
            "_view_module": "@jupyter-widgets/base",
            "overflow": null,
            "_model_module_version": "1.2.0",
            "_view_count": null,
            "flex_flow": null,
            "width": null,
            "min_width": null,
            "border": null,
            "align_items": null,
            "bottom": null,
            "_model_module": "@jupyter-widgets/base",
            "top": null,
            "grid_column": null,
            "overflow_y": null,
            "overflow_x": null,
            "grid_auto_flow": null,
            "grid_area": null,
            "grid_template_columns": null,
            "flex": null,
            "_model_name": "LayoutModel",
            "justify_items": null,
            "grid_row": null,
            "max_height": null,
            "align_content": null,
            "visibility": null,
            "align_self": null,
            "height": null,
            "min_height": null,
            "padding": null,
            "grid_auto_rows": null,
            "grid_gap": null,
            "max_width": null,
            "order": null,
            "_view_module_version": "1.2.0",
            "grid_template_areas": null,
            "object_position": null,
            "object_fit": null,
            "grid_auto_columns": null,
            "margin": null,
            "display": null,
            "left": null
          }
        },
        "1cb2a603b6e745f899b541720e3a9731": {
          "model_module": "@jupyter-widgets/controls",
          "model_name": "FloatProgressModel",
          "model_module_version": "1.5.0",
          "state": {
            "_view_name": "ProgressView",
            "style": "IPY_MODEL_b2d036b9c41e4325a7bcda8792494b29",
            "_dom_classes": [],
            "description": "Downloading: 100%",
            "_model_name": "FloatProgressModel",
            "bar_style": "success",
            "max": 535,
            "_view_module": "@jupyter-widgets/controls",
            "_model_module_version": "1.5.0",
            "value": 535,
            "_view_count": null,
            "_view_module_version": "1.5.0",
            "orientation": "horizontal",
            "min": 0,
            "description_tooltip": null,
            "_model_module": "@jupyter-widgets/controls",
            "layout": "IPY_MODEL_fbbd18afc6d74d50b113eda57245299a"
          }
        },
        "3d2559f26ab84b6781e93963e2b3cd33": {
          "model_module": "@jupyter-widgets/controls",
          "model_name": "HTMLModel",
          "model_module_version": "1.5.0",
          "state": {
            "_view_name": "HTMLView",
            "style": "IPY_MODEL_c40d0088b3dd4962aa391e7db50a051d",
            "_dom_classes": [],
            "description": "",
            "_model_name": "HTMLModel",
            "placeholder": "​",
            "_view_module": "@jupyter-widgets/controls",
            "_model_module_version": "1.5.0",
            "value": " 535/535 [00:01&lt;00:00, 500B/s]",
            "_view_count": null,
            "_view_module_version": "1.5.0",
            "description_tooltip": null,
            "_model_module": "@jupyter-widgets/controls",
            "layout": "IPY_MODEL_1493f3ac32f146c0b9e05b3c317d38cd"
          }
        },
        "b2d036b9c41e4325a7bcda8792494b29": {
          "model_module": "@jupyter-widgets/controls",
          "model_name": "ProgressStyleModel",
          "model_module_version": "1.5.0",
          "state": {
            "_view_name": "StyleView",
            "_model_name": "ProgressStyleModel",
            "description_width": "initial",
            "_view_module": "@jupyter-widgets/base",
            "_model_module_version": "1.5.0",
            "_view_count": null,
            "_view_module_version": "1.2.0",
            "bar_color": null,
            "_model_module": "@jupyter-widgets/controls"
          }
        },
        "fbbd18afc6d74d50b113eda57245299a": {
          "model_module": "@jupyter-widgets/base",
          "model_name": "LayoutModel",
          "model_module_version": "1.2.0",
          "state": {
            "_view_name": "LayoutView",
            "grid_template_rows": null,
            "right": null,
            "justify_content": null,
            "_view_module": "@jupyter-widgets/base",
            "overflow": null,
            "_model_module_version": "1.2.0",
            "_view_count": null,
            "flex_flow": null,
            "width": null,
            "min_width": null,
            "border": null,
            "align_items": null,
            "bottom": null,
            "_model_module": "@jupyter-widgets/base",
            "top": null,
            "grid_column": null,
            "overflow_y": null,
            "overflow_x": null,
            "grid_auto_flow": null,
            "grid_area": null,
            "grid_template_columns": null,
            "flex": null,
            "_model_name": "LayoutModel",
            "justify_items": null,
            "grid_row": null,
            "max_height": null,
            "align_content": null,
            "visibility": null,
            "align_self": null,
            "height": null,
            "min_height": null,
            "padding": null,
            "grid_auto_rows": null,
            "grid_gap": null,
            "max_width": null,
            "order": null,
            "_view_module_version": "1.2.0",
            "grid_template_areas": null,
            "object_position": null,
            "object_fit": null,
            "grid_auto_columns": null,
            "margin": null,
            "display": null,
            "left": null
          }
        },
        "c40d0088b3dd4962aa391e7db50a051d": {
          "model_module": "@jupyter-widgets/controls",
          "model_name": "DescriptionStyleModel",
          "model_module_version": "1.5.0",
          "state": {
            "_view_name": "StyleView",
            "_model_name": "DescriptionStyleModel",
            "description_width": "",
            "_view_module": "@jupyter-widgets/base",
            "_model_module_version": "1.5.0",
            "_view_count": null,
            "_view_module_version": "1.2.0",
            "_model_module": "@jupyter-widgets/controls"
          }
        },
        "1493f3ac32f146c0b9e05b3c317d38cd": {
          "model_module": "@jupyter-widgets/base",
          "model_name": "LayoutModel",
          "model_module_version": "1.2.0",
          "state": {
            "_view_name": "LayoutView",
            "grid_template_rows": null,
            "right": null,
            "justify_content": null,
            "_view_module": "@jupyter-widgets/base",
            "overflow": null,
            "_model_module_version": "1.2.0",
            "_view_count": null,
            "flex_flow": null,
            "width": null,
            "min_width": null,
            "border": null,
            "align_items": null,
            "bottom": null,
            "_model_module": "@jupyter-widgets/base",
            "top": null,
            "grid_column": null,
            "overflow_y": null,
            "overflow_x": null,
            "grid_auto_flow": null,
            "grid_area": null,
            "grid_template_columns": null,
            "flex": null,
            "_model_name": "LayoutModel",
            "justify_items": null,
            "grid_row": null,
            "max_height": null,
            "align_content": null,
            "visibility": null,
            "align_self": null,
            "height": null,
            "min_height": null,
            "padding": null,
            "grid_auto_rows": null,
            "grid_gap": null,
            "max_width": null,
            "order": null,
            "_view_module_version": "1.2.0",
            "grid_template_areas": null,
            "object_position": null,
            "object_fit": null,
            "grid_auto_columns": null,
            "margin": null,
            "display": null,
            "left": null
          }
        },
        "10f58b3ac1814d23a55e6969d56c51e4": {
          "model_module": "@jupyter-widgets/controls",
          "model_name": "HBoxModel",
          "model_module_version": "1.5.0",
          "state": {
            "_view_name": "HBoxView",
            "_dom_classes": [],
            "_model_name": "HBoxModel",
            "_view_module": "@jupyter-widgets/controls",
            "_model_module_version": "1.5.0",
            "_view_count": null,
            "_view_module_version": "1.5.0",
            "box_style": "",
            "layout": "IPY_MODEL_f1fff75d575f42529d8b43d457fe5a80",
            "_model_module": "@jupyter-widgets/controls",
            "children": [
              "IPY_MODEL_b7be92bfcf18444ba4390f3f14ba54f4",
              "IPY_MODEL_1e02330ebf0d4ef584152867525b3e29"
            ]
          }
        },
        "f1fff75d575f42529d8b43d457fe5a80": {
          "model_module": "@jupyter-widgets/base",
          "model_name": "LayoutModel",
          "model_module_version": "1.2.0",
          "state": {
            "_view_name": "LayoutView",
            "grid_template_rows": null,
            "right": null,
            "justify_content": null,
            "_view_module": "@jupyter-widgets/base",
            "overflow": null,
            "_model_module_version": "1.2.0",
            "_view_count": null,
            "flex_flow": null,
            "width": null,
            "min_width": null,
            "border": null,
            "align_items": null,
            "bottom": null,
            "_model_module": "@jupyter-widgets/base",
            "top": null,
            "grid_column": null,
            "overflow_y": null,
            "overflow_x": null,
            "grid_auto_flow": null,
            "grid_area": null,
            "grid_template_columns": null,
            "flex": null,
            "_model_name": "LayoutModel",
            "justify_items": null,
            "grid_row": null,
            "max_height": null,
            "align_content": null,
            "visibility": null,
            "align_self": null,
            "height": null,
            "min_height": null,
            "padding": null,
            "grid_auto_rows": null,
            "grid_gap": null,
            "max_width": null,
            "order": null,
            "_view_module_version": "1.2.0",
            "grid_template_areas": null,
            "object_position": null,
            "object_fit": null,
            "grid_auto_columns": null,
            "margin": null,
            "display": null,
            "left": null
          }
        },
        "b7be92bfcf18444ba4390f3f14ba54f4": {
          "model_module": "@jupyter-widgets/controls",
          "model_name": "FloatProgressModel",
          "model_module_version": "1.5.0",
          "state": {
            "_view_name": "ProgressView",
            "style": "IPY_MODEL_72d4796a55cf45c39e6b6c36a5711266",
            "_dom_classes": [],
            "description": "Downloading: 100%",
            "_model_name": "FloatProgressModel",
            "bar_style": "success",
            "max": 368792544,
            "_view_module": "@jupyter-widgets/controls",
            "_model_module_version": "1.5.0",
            "value": 368792544,
            "_view_count": null,
            "_view_module_version": "1.5.0",
            "orientation": "horizontal",
            "min": 0,
            "description_tooltip": null,
            "_model_module": "@jupyter-widgets/controls",
            "layout": "IPY_MODEL_35d7552f229e4670a1c80ce6a1954971"
          }
        },
        "1e02330ebf0d4ef584152867525b3e29": {
          "model_module": "@jupyter-widgets/controls",
          "model_name": "HTMLModel",
          "model_module_version": "1.5.0",
          "state": {
            "_view_name": "HTMLView",
            "style": "IPY_MODEL_836c867ccabf46ee8f00bf8ee789221a",
            "_dom_classes": [],
            "description": "",
            "_model_name": "HTMLModel",
            "placeholder": "​",
            "_view_module": "@jupyter-widgets/controls",
            "_model_module_version": "1.5.0",
            "value": " 369M/369M [00:06&lt;00:00, 55.6MB/s]",
            "_view_count": null,
            "_view_module_version": "1.5.0",
            "description_tooltip": null,
            "_model_module": "@jupyter-widgets/controls",
            "layout": "IPY_MODEL_51fb7919f54d431e85ae79179d92b28f"
          }
        },
        "72d4796a55cf45c39e6b6c36a5711266": {
          "model_module": "@jupyter-widgets/controls",
          "model_name": "ProgressStyleModel",
          "model_module_version": "1.5.0",
          "state": {
            "_view_name": "StyleView",
            "_model_name": "ProgressStyleModel",
            "description_width": "initial",
            "_view_module": "@jupyter-widgets/base",
            "_model_module_version": "1.5.0",
            "_view_count": null,
            "_view_module_version": "1.2.0",
            "bar_color": null,
            "_model_module": "@jupyter-widgets/controls"
          }
        },
        "35d7552f229e4670a1c80ce6a1954971": {
          "model_module": "@jupyter-widgets/base",
          "model_name": "LayoutModel",
          "model_module_version": "1.2.0",
          "state": {
            "_view_name": "LayoutView",
            "grid_template_rows": null,
            "right": null,
            "justify_content": null,
            "_view_module": "@jupyter-widgets/base",
            "overflow": null,
            "_model_module_version": "1.2.0",
            "_view_count": null,
            "flex_flow": null,
            "width": null,
            "min_width": null,
            "border": null,
            "align_items": null,
            "bottom": null,
            "_model_module": "@jupyter-widgets/base",
            "top": null,
            "grid_column": null,
            "overflow_y": null,
            "overflow_x": null,
            "grid_auto_flow": null,
            "grid_area": null,
            "grid_template_columns": null,
            "flex": null,
            "_model_name": "LayoutModel",
            "justify_items": null,
            "grid_row": null,
            "max_height": null,
            "align_content": null,
            "visibility": null,
            "align_self": null,
            "height": null,
            "min_height": null,
            "padding": null,
            "grid_auto_rows": null,
            "grid_gap": null,
            "max_width": null,
            "order": null,
            "_view_module_version": "1.2.0",
            "grid_template_areas": null,
            "object_position": null,
            "object_fit": null,
            "grid_auto_columns": null,
            "margin": null,
            "display": null,
            "left": null
          }
        },
        "836c867ccabf46ee8f00bf8ee789221a": {
          "model_module": "@jupyter-widgets/controls",
          "model_name": "DescriptionStyleModel",
          "model_module_version": "1.5.0",
          "state": {
            "_view_name": "StyleView",
            "_model_name": "DescriptionStyleModel",
            "description_width": "",
            "_view_module": "@jupyter-widgets/base",
            "_model_module_version": "1.5.0",
            "_view_count": null,
            "_view_module_version": "1.2.0",
            "_model_module": "@jupyter-widgets/controls"
          }
        },
        "51fb7919f54d431e85ae79179d92b28f": {
          "model_module": "@jupyter-widgets/base",
          "model_name": "LayoutModel",
          "model_module_version": "1.2.0",
          "state": {
            "_view_name": "LayoutView",
            "grid_template_rows": null,
            "right": null,
            "justify_content": null,
            "_view_module": "@jupyter-widgets/base",
            "overflow": null,
            "_model_module_version": "1.2.0",
            "_view_count": null,
            "flex_flow": null,
            "width": null,
            "min_width": null,
            "border": null,
            "align_items": null,
            "bottom": null,
            "_model_module": "@jupyter-widgets/base",
            "top": null,
            "grid_column": null,
            "overflow_y": null,
            "overflow_x": null,
            "grid_auto_flow": null,
            "grid_area": null,
            "grid_template_columns": null,
            "flex": null,
            "_model_name": "LayoutModel",
            "justify_items": null,
            "grid_row": null,
            "max_height": null,
            "align_content": null,
            "visibility": null,
            "align_self": null,
            "height": null,
            "min_height": null,
            "padding": null,
            "grid_auto_rows": null,
            "grid_gap": null,
            "max_width": null,
            "order": null,
            "_view_module_version": "1.2.0",
            "grid_template_areas": null,
            "object_position": null,
            "object_fit": null,
            "grid_auto_columns": null,
            "margin": null,
            "display": null,
            "left": null
          }
        },
        "ce470c32f54645ac93de2319a663f1ee": {
          "model_module": "@jupyter-widgets/controls",
          "model_name": "HBoxModel",
          "model_module_version": "1.5.0",
          "state": {
            "_view_name": "HBoxView",
            "_dom_classes": [],
            "_model_name": "HBoxModel",
            "_view_module": "@jupyter-widgets/controls",
            "_model_module_version": "1.5.0",
            "_view_count": null,
            "_view_module_version": "1.5.0",
            "box_style": "",
            "layout": "IPY_MODEL_1026584fe74c421088c29ca4fa1108db",
            "_model_module": "@jupyter-widgets/controls",
            "children": [
              "IPY_MODEL_b368eb7b38504fd5af72635dad7669aa",
              "IPY_MODEL_bd01f88249604c788a9abbe2c43096c8"
            ]
          }
        },
        "1026584fe74c421088c29ca4fa1108db": {
          "model_module": "@jupyter-widgets/base",
          "model_name": "LayoutModel",
          "model_module_version": "1.2.0",
          "state": {
            "_view_name": "LayoutView",
            "grid_template_rows": null,
            "right": null,
            "justify_content": null,
            "_view_module": "@jupyter-widgets/base",
            "overflow": null,
            "_model_module_version": "1.2.0",
            "_view_count": null,
            "flex_flow": null,
            "width": null,
            "min_width": null,
            "border": null,
            "align_items": null,
            "bottom": null,
            "_model_module": "@jupyter-widgets/base",
            "top": null,
            "grid_column": null,
            "overflow_y": null,
            "overflow_x": null,
            "grid_auto_flow": null,
            "grid_area": null,
            "grid_template_columns": null,
            "flex": null,
            "_model_name": "LayoutModel",
            "justify_items": null,
            "grid_row": null,
            "max_height": null,
            "align_content": null,
            "visibility": null,
            "align_self": null,
            "height": null,
            "min_height": null,
            "padding": null,
            "grid_auto_rows": null,
            "grid_gap": null,
            "max_width": null,
            "order": null,
            "_view_module_version": "1.2.0",
            "grid_template_areas": null,
            "object_position": null,
            "object_fit": null,
            "grid_auto_columns": null,
            "margin": null,
            "display": null,
            "left": null
          }
        },
        "b368eb7b38504fd5af72635dad7669aa": {
          "model_module": "@jupyter-widgets/controls",
          "model_name": "FloatProgressModel",
          "model_module_version": "1.5.0",
          "state": {
            "_view_name": "ProgressView",
            "style": "IPY_MODEL_c0c391a09ca344fb94f3058388dea333",
            "_dom_classes": [],
            "description": "Downloading: 100%",
            "_model_name": "FloatProgressModel",
            "bar_style": "success",
            "max": 2825034,
            "_view_module": "@jupyter-widgets/controls",
            "_model_module_version": "1.5.0",
            "value": 2825034,
            "_view_count": null,
            "_view_module_version": "1.5.0",
            "orientation": "horizontal",
            "min": 0,
            "description_tooltip": null,
            "_model_module": "@jupyter-widgets/controls",
            "layout": "IPY_MODEL_d2fe4ecb139f4aa48b99a7202c6efd3d"
          }
        },
        "bd01f88249604c788a9abbe2c43096c8": {
          "model_module": "@jupyter-widgets/controls",
          "model_name": "HTMLModel",
          "model_module_version": "1.5.0",
          "state": {
            "_view_name": "HTMLView",
            "style": "IPY_MODEL_2333288e3ebb4d17bd7f978712147d0e",
            "_dom_classes": [],
            "description": "",
            "_model_name": "HTMLModel",
            "placeholder": "​",
            "_view_module": "@jupyter-widgets/controls",
            "_model_module_version": "1.5.0",
            "value": " 2.83M/2.83M [00:00&lt;00:00, 2.94MB/s]",
            "_view_count": null,
            "_view_module_version": "1.5.0",
            "description_tooltip": null,
            "_model_module": "@jupyter-widgets/controls",
            "layout": "IPY_MODEL_478e04ae18364bb78f628dd36320a5fd"
          }
        },
        "c0c391a09ca344fb94f3058388dea333": {
          "model_module": "@jupyter-widgets/controls",
          "model_name": "ProgressStyleModel",
          "model_module_version": "1.5.0",
          "state": {
            "_view_name": "StyleView",
            "_model_name": "ProgressStyleModel",
            "description_width": "initial",
            "_view_module": "@jupyter-widgets/base",
            "_model_module_version": "1.5.0",
            "_view_count": null,
            "_view_module_version": "1.2.0",
            "bar_color": null,
            "_model_module": "@jupyter-widgets/controls"
          }
        },
        "d2fe4ecb139f4aa48b99a7202c6efd3d": {
          "model_module": "@jupyter-widgets/base",
          "model_name": "LayoutModel",
          "model_module_version": "1.2.0",
          "state": {
            "_view_name": "LayoutView",
            "grid_template_rows": null,
            "right": null,
            "justify_content": null,
            "_view_module": "@jupyter-widgets/base",
            "overflow": null,
            "_model_module_version": "1.2.0",
            "_view_count": null,
            "flex_flow": null,
            "width": null,
            "min_width": null,
            "border": null,
            "align_items": null,
            "bottom": null,
            "_model_module": "@jupyter-widgets/base",
            "top": null,
            "grid_column": null,
            "overflow_y": null,
            "overflow_x": null,
            "grid_auto_flow": null,
            "grid_area": null,
            "grid_template_columns": null,
            "flex": null,
            "_model_name": "LayoutModel",
            "justify_items": null,
            "grid_row": null,
            "max_height": null,
            "align_content": null,
            "visibility": null,
            "align_self": null,
            "height": null,
            "min_height": null,
            "padding": null,
            "grid_auto_rows": null,
            "grid_gap": null,
            "max_width": null,
            "order": null,
            "_view_module_version": "1.2.0",
            "grid_template_areas": null,
            "object_position": null,
            "object_fit": null,
            "grid_auto_columns": null,
            "margin": null,
            "display": null,
            "left": null
          }
        },
        "2333288e3ebb4d17bd7f978712147d0e": {
          "model_module": "@jupyter-widgets/controls",
          "model_name": "DescriptionStyleModel",
          "model_module_version": "1.5.0",
          "state": {
            "_view_name": "StyleView",
            "_model_name": "DescriptionStyleModel",
            "description_width": "",
            "_view_module": "@jupyter-widgets/base",
            "_model_module_version": "1.5.0",
            "_view_count": null,
            "_view_module_version": "1.2.0",
            "_model_module": "@jupyter-widgets/controls"
          }
        },
        "478e04ae18364bb78f628dd36320a5fd": {
          "model_module": "@jupyter-widgets/base",
          "model_name": "LayoutModel",
          "model_module_version": "1.2.0",
          "state": {
            "_view_name": "LayoutView",
            "grid_template_rows": null,
            "right": null,
            "justify_content": null,
            "_view_module": "@jupyter-widgets/base",
            "overflow": null,
            "_model_module_version": "1.2.0",
            "_view_count": null,
            "flex_flow": null,
            "width": null,
            "min_width": null,
            "border": null,
            "align_items": null,
            "bottom": null,
            "_model_module": "@jupyter-widgets/base",
            "top": null,
            "grid_column": null,
            "overflow_y": null,
            "overflow_x": null,
            "grid_auto_flow": null,
            "grid_area": null,
            "grid_template_columns": null,
            "flex": null,
            "_model_name": "LayoutModel",
            "justify_items": null,
            "grid_row": null,
            "max_height": null,
            "align_content": null,
            "visibility": null,
            "align_self": null,
            "height": null,
            "min_height": null,
            "padding": null,
            "grid_auto_rows": null,
            "grid_gap": null,
            "max_width": null,
            "order": null,
            "_view_module_version": "1.2.0",
            "grid_template_areas": null,
            "object_position": null,
            "object_fit": null,
            "grid_auto_columns": null,
            "margin": null,
            "display": null,
            "left": null
          }
        },
        "e02c723448d245caa530d956f49be692": {
          "model_module": "@jupyter-widgets/controls",
          "model_name": "HBoxModel",
          "model_module_version": "1.5.0",
          "state": {
            "_view_name": "HBoxView",
            "_dom_classes": [],
            "_model_name": "HBoxModel",
            "_view_module": "@jupyter-widgets/controls",
            "_model_module_version": "1.5.0",
            "_view_count": null,
            "_view_module_version": "1.5.0",
            "box_style": "",
            "layout": "IPY_MODEL_a222f0abdbba4977bc1fd01e0c62a9ca",
            "_model_module": "@jupyter-widgets/controls",
            "children": [
              "IPY_MODEL_0b3725eab14b499db8565a5b79a61590",
              "IPY_MODEL_9e576f307a8e42b7b85cc361a4e5f850"
            ]
          }
        },
        "a222f0abdbba4977bc1fd01e0c62a9ca": {
          "model_module": "@jupyter-widgets/base",
          "model_name": "LayoutModel",
          "model_module_version": "1.2.0",
          "state": {
            "_view_name": "LayoutView",
            "grid_template_rows": null,
            "right": null,
            "justify_content": null,
            "_view_module": "@jupyter-widgets/base",
            "overflow": null,
            "_model_module_version": "1.2.0",
            "_view_count": null,
            "flex_flow": null,
            "width": null,
            "min_width": null,
            "border": null,
            "align_items": null,
            "bottom": null,
            "_model_module": "@jupyter-widgets/base",
            "top": null,
            "grid_column": null,
            "overflow_y": null,
            "overflow_x": null,
            "grid_auto_flow": null,
            "grid_area": null,
            "grid_template_columns": null,
            "flex": null,
            "_model_name": "LayoutModel",
            "justify_items": null,
            "grid_row": null,
            "max_height": null,
            "align_content": null,
            "visibility": null,
            "align_self": null,
            "height": null,
            "min_height": null,
            "padding": null,
            "grid_auto_rows": null,
            "grid_gap": null,
            "max_width": null,
            "order": null,
            "_view_module_version": "1.2.0",
            "grid_template_areas": null,
            "object_position": null,
            "object_fit": null,
            "grid_auto_columns": null,
            "margin": null,
            "display": null,
            "left": null
          }
        },
        "0b3725eab14b499db8565a5b79a61590": {
          "model_module": "@jupyter-widgets/controls",
          "model_name": "FloatProgressModel",
          "model_module_version": "1.5.0",
          "state": {
            "_view_name": "ProgressView",
            "style": "IPY_MODEL_6ada5d673b4d4d2f9341ea129acef121",
            "_dom_classes": [],
            "description": "Downloading: 100%",
            "_model_name": "FloatProgressModel",
            "bar_style": "success",
            "max": 1000,
            "_view_module": "@jupyter-widgets/controls",
            "_model_module_version": "1.5.0",
            "value": 1000,
            "_view_count": null,
            "_view_module_version": "1.5.0",
            "orientation": "horizontal",
            "min": 0,
            "description_tooltip": null,
            "_model_module": "@jupyter-widgets/controls",
            "layout": "IPY_MODEL_6ef299c5bf94436abd1f5fd8289cb358"
          }
        },
        "9e576f307a8e42b7b85cc361a4e5f850": {
          "model_module": "@jupyter-widgets/controls",
          "model_name": "HTMLModel",
          "model_module_version": "1.5.0",
          "state": {
            "_view_name": "HTMLView",
            "style": "IPY_MODEL_2d81c8b8cf634ad5961cf36bbdf296fd",
            "_dom_classes": [],
            "description": "",
            "_model_name": "HTMLModel",
            "placeholder": "​",
            "_view_module": "@jupyter-widgets/controls",
            "_model_module_version": "1.5.0",
            "value": " 1.00k/1.00k [00:00&lt;00:00, 18.4kB/s]",
            "_view_count": null,
            "_view_module_version": "1.5.0",
            "description_tooltip": null,
            "_model_module": "@jupyter-widgets/controls",
            "layout": "IPY_MODEL_69e578f487db4f3983ca4c8d2be4c310"
          }
        },
        "6ada5d673b4d4d2f9341ea129acef121": {
          "model_module": "@jupyter-widgets/controls",
          "model_name": "ProgressStyleModel",
          "model_module_version": "1.5.0",
          "state": {
            "_view_name": "StyleView",
            "_model_name": "ProgressStyleModel",
            "description_width": "initial",
            "_view_module": "@jupyter-widgets/base",
            "_model_module_version": "1.5.0",
            "_view_count": null,
            "_view_module_version": "1.2.0",
            "bar_color": null,
            "_model_module": "@jupyter-widgets/controls"
          }
        },
        "6ef299c5bf94436abd1f5fd8289cb358": {
          "model_module": "@jupyter-widgets/base",
          "model_name": "LayoutModel",
          "model_module_version": "1.2.0",
          "state": {
            "_view_name": "LayoutView",
            "grid_template_rows": null,
            "right": null,
            "justify_content": null,
            "_view_module": "@jupyter-widgets/base",
            "overflow": null,
            "_model_module_version": "1.2.0",
            "_view_count": null,
            "flex_flow": null,
            "width": null,
            "min_width": null,
            "border": null,
            "align_items": null,
            "bottom": null,
            "_model_module": "@jupyter-widgets/base",
            "top": null,
            "grid_column": null,
            "overflow_y": null,
            "overflow_x": null,
            "grid_auto_flow": null,
            "grid_area": null,
            "grid_template_columns": null,
            "flex": null,
            "_model_name": "LayoutModel",
            "justify_items": null,
            "grid_row": null,
            "max_height": null,
            "align_content": null,
            "visibility": null,
            "align_self": null,
            "height": null,
            "min_height": null,
            "padding": null,
            "grid_auto_rows": null,
            "grid_gap": null,
            "max_width": null,
            "order": null,
            "_view_module_version": "1.2.0",
            "grid_template_areas": null,
            "object_position": null,
            "object_fit": null,
            "grid_auto_columns": null,
            "margin": null,
            "display": null,
            "left": null
          }
        },
        "2d81c8b8cf634ad5961cf36bbdf296fd": {
          "model_module": "@jupyter-widgets/controls",
          "model_name": "DescriptionStyleModel",
          "model_module_version": "1.5.0",
          "state": {
            "_view_name": "StyleView",
            "_model_name": "DescriptionStyleModel",
            "description_width": "",
            "_view_module": "@jupyter-widgets/base",
            "_model_module_version": "1.5.0",
            "_view_count": null,
            "_view_module_version": "1.2.0",
            "_model_module": "@jupyter-widgets/controls"
          }
        },
        "69e578f487db4f3983ca4c8d2be4c310": {
          "model_module": "@jupyter-widgets/base",
          "model_name": "LayoutModel",
          "model_module_version": "1.2.0",
          "state": {
            "_view_name": "LayoutView",
            "grid_template_rows": null,
            "right": null,
            "justify_content": null,
            "_view_module": "@jupyter-widgets/base",
            "overflow": null,
            "_model_module_version": "1.2.0",
            "_view_count": null,
            "flex_flow": null,
            "width": null,
            "min_width": null,
            "border": null,
            "align_items": null,
            "bottom": null,
            "_model_module": "@jupyter-widgets/base",
            "top": null,
            "grid_column": null,
            "overflow_y": null,
            "overflow_x": null,
            "grid_auto_flow": null,
            "grid_area": null,
            "grid_template_columns": null,
            "flex": null,
            "_model_name": "LayoutModel",
            "justify_items": null,
            "grid_row": null,
            "max_height": null,
            "align_content": null,
            "visibility": null,
            "align_self": null,
            "height": null,
            "min_height": null,
            "padding": null,
            "grid_auto_rows": null,
            "grid_gap": null,
            "max_width": null,
            "order": null,
            "_view_module_version": "1.2.0",
            "grid_template_areas": null,
            "object_position": null,
            "object_fit": null,
            "grid_auto_columns": null,
            "margin": null,
            "display": null,
            "left": null
          }
        },
        "46ffb93af58c4ce283cf0d8a5390e3b0": {
          "model_module": "@jupyter-widgets/controls",
          "model_name": "HBoxModel",
          "model_module_version": "1.5.0",
          "state": {
            "_view_name": "HBoxView",
            "_dom_classes": [],
            "_model_name": "HBoxModel",
            "_view_module": "@jupyter-widgets/controls",
            "_model_module_version": "1.5.0",
            "_view_count": null,
            "_view_module_version": "1.5.0",
            "box_style": "",
            "layout": "IPY_MODEL_5b449c97976f40689cae4cbbeda9daee",
            "_model_module": "@jupyter-widgets/controls",
            "children": [
              "IPY_MODEL_631c6d845acd45fea257447b8c1bc7b8",
              "IPY_MODEL_66c8bb2c48714709b9d7a0ee2ecce927"
            ]
          }
        },
        "5b449c97976f40689cae4cbbeda9daee": {
          "model_module": "@jupyter-widgets/base",
          "model_name": "LayoutModel",
          "model_module_version": "1.2.0",
          "state": {
            "_view_name": "LayoutView",
            "grid_template_rows": null,
            "right": null,
            "justify_content": null,
            "_view_module": "@jupyter-widgets/base",
            "overflow": null,
            "_model_module_version": "1.2.0",
            "_view_count": null,
            "flex_flow": null,
            "width": null,
            "min_width": null,
            "border": null,
            "align_items": null,
            "bottom": null,
            "_model_module": "@jupyter-widgets/base",
            "top": null,
            "grid_column": null,
            "overflow_y": null,
            "overflow_x": null,
            "grid_auto_flow": null,
            "grid_area": null,
            "grid_template_columns": null,
            "flex": null,
            "_model_name": "LayoutModel",
            "justify_items": null,
            "grid_row": null,
            "max_height": null,
            "align_content": null,
            "visibility": null,
            "align_self": null,
            "height": null,
            "min_height": null,
            "padding": null,
            "grid_auto_rows": null,
            "grid_gap": null,
            "max_width": null,
            "order": null,
            "_view_module_version": "1.2.0",
            "grid_template_areas": null,
            "object_position": null,
            "object_fit": null,
            "grid_auto_columns": null,
            "margin": null,
            "display": null,
            "left": null
          }
        },
        "631c6d845acd45fea257447b8c1bc7b8": {
          "model_module": "@jupyter-widgets/controls",
          "model_name": "FloatProgressModel",
          "model_module_version": "1.5.0",
          "state": {
            "_view_name": "ProgressView",
            "style": "IPY_MODEL_8d765b6db1e84375a4bcc779d1592b8e",
            "_dom_classes": [],
            "description": "Downloading: 100%",
            "_model_name": "FloatProgressModel",
            "bar_style": "success",
            "max": 513302779,
            "_view_module": "@jupyter-widgets/controls",
            "_model_module_version": "1.5.0",
            "value": 513302779,
            "_view_count": null,
            "_view_module_version": "1.5.0",
            "orientation": "horizontal",
            "min": 0,
            "description_tooltip": null,
            "_model_module": "@jupyter-widgets/controls",
            "layout": "IPY_MODEL_eec26186a98a41829f6fbc76bbbf2c1f"
          }
        },
        "66c8bb2c48714709b9d7a0ee2ecce927": {
          "model_module": "@jupyter-widgets/controls",
          "model_name": "HTMLModel",
          "model_module_version": "1.5.0",
          "state": {
            "_view_name": "HTMLView",
            "style": "IPY_MODEL_2f33b796d5eb498f94ba497c23920b16",
            "_dom_classes": [],
            "description": "",
            "_model_name": "HTMLModel",
            "placeholder": "​",
            "_view_module": "@jupyter-widgets/controls",
            "_model_module_version": "1.5.0",
            "value": " 513M/513M [00:13&lt;00:00, 39.2MB/s]",
            "_view_count": null,
            "_view_module_version": "1.5.0",
            "description_tooltip": null,
            "_model_module": "@jupyter-widgets/controls",
            "layout": "IPY_MODEL_27709f1cf33c4e30b86055642433055a"
          }
        },
        "8d765b6db1e84375a4bcc779d1592b8e": {
          "model_module": "@jupyter-widgets/controls",
          "model_name": "ProgressStyleModel",
          "model_module_version": "1.5.0",
          "state": {
            "_view_name": "StyleView",
            "_model_name": "ProgressStyleModel",
            "description_width": "initial",
            "_view_module": "@jupyter-widgets/base",
            "_model_module_version": "1.5.0",
            "_view_count": null,
            "_view_module_version": "1.2.0",
            "bar_color": null,
            "_model_module": "@jupyter-widgets/controls"
          }
        },
        "eec26186a98a41829f6fbc76bbbf2c1f": {
          "model_module": "@jupyter-widgets/base",
          "model_name": "LayoutModel",
          "model_module_version": "1.2.0",
          "state": {
            "_view_name": "LayoutView",
            "grid_template_rows": null,
            "right": null,
            "justify_content": null,
            "_view_module": "@jupyter-widgets/base",
            "overflow": null,
            "_model_module_version": "1.2.0",
            "_view_count": null,
            "flex_flow": null,
            "width": null,
            "min_width": null,
            "border": null,
            "align_items": null,
            "bottom": null,
            "_model_module": "@jupyter-widgets/base",
            "top": null,
            "grid_column": null,
            "overflow_y": null,
            "overflow_x": null,
            "grid_auto_flow": null,
            "grid_area": null,
            "grid_template_columns": null,
            "flex": null,
            "_model_name": "LayoutModel",
            "justify_items": null,
            "grid_row": null,
            "max_height": null,
            "align_content": null,
            "visibility": null,
            "align_self": null,
            "height": null,
            "min_height": null,
            "padding": null,
            "grid_auto_rows": null,
            "grid_gap": null,
            "max_width": null,
            "order": null,
            "_view_module_version": "1.2.0",
            "grid_template_areas": null,
            "object_position": null,
            "object_fit": null,
            "grid_auto_columns": null,
            "margin": null,
            "display": null,
            "left": null
          }
        },
        "2f33b796d5eb498f94ba497c23920b16": {
          "model_module": "@jupyter-widgets/controls",
          "model_name": "DescriptionStyleModel",
          "model_module_version": "1.5.0",
          "state": {
            "_view_name": "StyleView",
            "_model_name": "DescriptionStyleModel",
            "description_width": "",
            "_view_module": "@jupyter-widgets/base",
            "_model_module_version": "1.5.0",
            "_view_count": null,
            "_view_module_version": "1.2.0",
            "_model_module": "@jupyter-widgets/controls"
          }
        },
        "27709f1cf33c4e30b86055642433055a": {
          "model_module": "@jupyter-widgets/base",
          "model_name": "LayoutModel",
          "model_module_version": "1.2.0",
          "state": {
            "_view_name": "LayoutView",
            "grid_template_rows": null,
            "right": null,
            "justify_content": null,
            "_view_module": "@jupyter-widgets/base",
            "overflow": null,
            "_model_module_version": "1.2.0",
            "_view_count": null,
            "flex_flow": null,
            "width": null,
            "min_width": null,
            "border": null,
            "align_items": null,
            "bottom": null,
            "_model_module": "@jupyter-widgets/base",
            "top": null,
            "grid_column": null,
            "overflow_y": null,
            "overflow_x": null,
            "grid_auto_flow": null,
            "grid_area": null,
            "grid_template_columns": null,
            "flex": null,
            "_model_name": "LayoutModel",
            "justify_items": null,
            "grid_row": null,
            "max_height": null,
            "align_content": null,
            "visibility": null,
            "align_self": null,
            "height": null,
            "min_height": null,
            "padding": null,
            "grid_auto_rows": null,
            "grid_gap": null,
            "max_width": null,
            "order": null,
            "_view_module_version": "1.2.0",
            "grid_template_areas": null,
            "object_position": null,
            "object_fit": null,
            "grid_auto_columns": null,
            "margin": null,
            "display": null,
            "left": null
          }
        },
        "3a9f096cf7fd4a0083f43cfe8ecbf7cd": {
          "model_module": "@jupyter-widgets/controls",
          "model_name": "HBoxModel",
          "model_module_version": "1.5.0",
          "state": {
            "_view_name": "HBoxView",
            "_dom_classes": [],
            "_model_name": "HBoxModel",
            "_view_module": "@jupyter-widgets/controls",
            "_model_module_version": "1.5.0",
            "_view_count": null,
            "_view_module_version": "1.5.0",
            "box_style": "",
            "layout": "IPY_MODEL_949d29dd1e5e4355947ce267d2d78cb9",
            "_model_module": "@jupyter-widgets/controls",
            "children": [
              "IPY_MODEL_9f34b1a7680c4e82a3c1af8be5bac7ad",
              "IPY_MODEL_571c21660b6240b687a6804977634a5c"
            ]
          }
        },
        "949d29dd1e5e4355947ce267d2d78cb9": {
          "model_module": "@jupyter-widgets/base",
          "model_name": "LayoutModel",
          "model_module_version": "1.2.0",
          "state": {
            "_view_name": "LayoutView",
            "grid_template_rows": null,
            "right": null,
            "justify_content": null,
            "_view_module": "@jupyter-widgets/base",
            "overflow": null,
            "_model_module_version": "1.2.0",
            "_view_count": null,
            "flex_flow": null,
            "width": null,
            "min_width": null,
            "border": null,
            "align_items": null,
            "bottom": null,
            "_model_module": "@jupyter-widgets/base",
            "top": null,
            "grid_column": null,
            "overflow_y": null,
            "overflow_x": null,
            "grid_auto_flow": null,
            "grid_area": null,
            "grid_template_columns": null,
            "flex": null,
            "_model_name": "LayoutModel",
            "justify_items": null,
            "grid_row": null,
            "max_height": null,
            "align_content": null,
            "visibility": null,
            "align_self": null,
            "height": null,
            "min_height": null,
            "padding": null,
            "grid_auto_rows": null,
            "grid_gap": null,
            "max_width": null,
            "order": null,
            "_view_module_version": "1.2.0",
            "grid_template_areas": null,
            "object_position": null,
            "object_fit": null,
            "grid_auto_columns": null,
            "margin": null,
            "display": null,
            "left": null
          }
        },
        "9f34b1a7680c4e82a3c1af8be5bac7ad": {
          "model_module": "@jupyter-widgets/controls",
          "model_name": "FloatProgressModel",
          "model_module_version": "1.5.0",
          "state": {
            "_view_name": "ProgressView",
            "style": "IPY_MODEL_95bf9c48e7b5422581674a244db16494",
            "_dom_classes": [],
            "description": "Downloading: 100%",
            "_model_name": "FloatProgressModel",
            "bar_style": "success",
            "max": 467,
            "_view_module": "@jupyter-widgets/controls",
            "_model_module_version": "1.5.0",
            "value": 467,
            "_view_count": null,
            "_view_module_version": "1.5.0",
            "orientation": "horizontal",
            "min": 0,
            "description_tooltip": null,
            "_model_module": "@jupyter-widgets/controls",
            "layout": "IPY_MODEL_035f210566364df28182df49985e797b"
          }
        },
        "571c21660b6240b687a6804977634a5c": {
          "model_module": "@jupyter-widgets/controls",
          "model_name": "HTMLModel",
          "model_module_version": "1.5.0",
          "state": {
            "_view_name": "HTMLView",
            "style": "IPY_MODEL_21700157637f45ae8e11336e77cc2749",
            "_dom_classes": [],
            "description": "",
            "_model_name": "HTMLModel",
            "placeholder": "​",
            "_view_module": "@jupyter-widgets/controls",
            "_model_module_version": "1.5.0",
            "value": " 467/467 [00:00&lt;00:00, 838B/s]",
            "_view_count": null,
            "_view_module_version": "1.5.0",
            "description_tooltip": null,
            "_model_module": "@jupyter-widgets/controls",
            "layout": "IPY_MODEL_d9e0f86fd22943b994768b2bada687b8"
          }
        },
        "95bf9c48e7b5422581674a244db16494": {
          "model_module": "@jupyter-widgets/controls",
          "model_name": "ProgressStyleModel",
          "model_module_version": "1.5.0",
          "state": {
            "_view_name": "StyleView",
            "_model_name": "ProgressStyleModel",
            "description_width": "initial",
            "_view_module": "@jupyter-widgets/base",
            "_model_module_version": "1.5.0",
            "_view_count": null,
            "_view_module_version": "1.2.0",
            "bar_color": null,
            "_model_module": "@jupyter-widgets/controls"
          }
        },
        "035f210566364df28182df49985e797b": {
          "model_module": "@jupyter-widgets/base",
          "model_name": "LayoutModel",
          "model_module_version": "1.2.0",
          "state": {
            "_view_name": "LayoutView",
            "grid_template_rows": null,
            "right": null,
            "justify_content": null,
            "_view_module": "@jupyter-widgets/base",
            "overflow": null,
            "_model_module_version": "1.2.0",
            "_view_count": null,
            "flex_flow": null,
            "width": null,
            "min_width": null,
            "border": null,
            "align_items": null,
            "bottom": null,
            "_model_module": "@jupyter-widgets/base",
            "top": null,
            "grid_column": null,
            "overflow_y": null,
            "overflow_x": null,
            "grid_auto_flow": null,
            "grid_area": null,
            "grid_template_columns": null,
            "flex": null,
            "_model_name": "LayoutModel",
            "justify_items": null,
            "grid_row": null,
            "max_height": null,
            "align_content": null,
            "visibility": null,
            "align_self": null,
            "height": null,
            "min_height": null,
            "padding": null,
            "grid_auto_rows": null,
            "grid_gap": null,
            "max_width": null,
            "order": null,
            "_view_module_version": "1.2.0",
            "grid_template_areas": null,
            "object_position": null,
            "object_fit": null,
            "grid_auto_columns": null,
            "margin": null,
            "display": null,
            "left": null
          }
        },
        "21700157637f45ae8e11336e77cc2749": {
          "model_module": "@jupyter-widgets/controls",
          "model_name": "DescriptionStyleModel",
          "model_module_version": "1.5.0",
          "state": {
            "_view_name": "StyleView",
            "_model_name": "DescriptionStyleModel",
            "description_width": "",
            "_view_module": "@jupyter-widgets/base",
            "_model_module_version": "1.5.0",
            "_view_count": null,
            "_view_module_version": "1.2.0",
            "_model_module": "@jupyter-widgets/controls"
          }
        },
        "d9e0f86fd22943b994768b2bada687b8": {
          "model_module": "@jupyter-widgets/base",
          "model_name": "LayoutModel",
          "model_module_version": "1.2.0",
          "state": {
            "_view_name": "LayoutView",
            "grid_template_rows": null,
            "right": null,
            "justify_content": null,
            "_view_module": "@jupyter-widgets/base",
            "overflow": null,
            "_model_module_version": "1.2.0",
            "_view_count": null,
            "flex_flow": null,
            "width": null,
            "min_width": null,
            "border": null,
            "align_items": null,
            "bottom": null,
            "_model_module": "@jupyter-widgets/base",
            "top": null,
            "grid_column": null,
            "overflow_y": null,
            "overflow_x": null,
            "grid_auto_flow": null,
            "grid_area": null,
            "grid_template_columns": null,
            "flex": null,
            "_model_name": "LayoutModel",
            "justify_items": null,
            "grid_row": null,
            "max_height": null,
            "align_content": null,
            "visibility": null,
            "align_self": null,
            "height": null,
            "min_height": null,
            "padding": null,
            "grid_auto_rows": null,
            "grid_gap": null,
            "max_width": null,
            "order": null,
            "_view_module_version": "1.2.0",
            "grid_template_areas": null,
            "object_position": null,
            "object_fit": null,
            "grid_auto_columns": null,
            "margin": null,
            "display": null,
            "left": null
          }
        },
        "bd717bce7ee04e7aae189fe5413ba34e": {
          "model_module": "@jupyter-widgets/controls",
          "model_name": "HBoxModel",
          "model_module_version": "1.5.0",
          "state": {
            "_view_name": "HBoxView",
            "_dom_classes": [],
            "_model_name": "HBoxModel",
            "_view_module": "@jupyter-widgets/controls",
            "_model_module_version": "1.5.0",
            "_view_count": null,
            "_view_module_version": "1.5.0",
            "box_style": "",
            "layout": "IPY_MODEL_b867baaa74f945808ee8961953bff933",
            "_model_module": "@jupyter-widgets/controls",
            "children": [
              "IPY_MODEL_1d07a883d99349ec8cac11897afe6a1b",
              "IPY_MODEL_9a2d557d88f04b1ea5ce59f317c564a1"
            ]
          }
        },
        "b867baaa74f945808ee8961953bff933": {
          "model_module": "@jupyter-widgets/base",
          "model_name": "LayoutModel",
          "model_module_version": "1.2.0",
          "state": {
            "_view_name": "LayoutView",
            "grid_template_rows": null,
            "right": null,
            "justify_content": null,
            "_view_module": "@jupyter-widgets/base",
            "overflow": null,
            "_model_module_version": "1.2.0",
            "_view_count": null,
            "flex_flow": null,
            "width": null,
            "min_width": null,
            "border": null,
            "align_items": null,
            "bottom": null,
            "_model_module": "@jupyter-widgets/base",
            "top": null,
            "grid_column": null,
            "overflow_y": null,
            "overflow_x": null,
            "grid_auto_flow": null,
            "grid_area": null,
            "grid_template_columns": null,
            "flex": null,
            "_model_name": "LayoutModel",
            "justify_items": null,
            "grid_row": null,
            "max_height": null,
            "align_content": null,
            "visibility": null,
            "align_self": null,
            "height": null,
            "min_height": null,
            "padding": null,
            "grid_auto_rows": null,
            "grid_gap": null,
            "max_width": null,
            "order": null,
            "_view_module_version": "1.2.0",
            "grid_template_areas": null,
            "object_position": null,
            "object_fit": null,
            "grid_auto_columns": null,
            "margin": null,
            "display": null,
            "left": null
          }
        },
        "1d07a883d99349ec8cac11897afe6a1b": {
          "model_module": "@jupyter-widgets/controls",
          "model_name": "FloatProgressModel",
          "model_module_version": "1.5.0",
          "state": {
            "_view_name": "ProgressView",
            "style": "IPY_MODEL_12a6455f8711489e80f13e4b86731dd3",
            "_dom_classes": [],
            "description": "Downloading: 100%",
            "_model_name": "FloatProgressModel",
            "bar_style": "success",
            "max": 451741507,
            "_view_module": "@jupyter-widgets/controls",
            "_model_module_version": "1.5.0",
            "value": 451741507,
            "_view_count": null,
            "_view_module_version": "1.5.0",
            "orientation": "horizontal",
            "min": 0,
            "description_tooltip": null,
            "_model_module": "@jupyter-widgets/controls",
            "layout": "IPY_MODEL_7c6c5e0674de4e4e885a0fe8b72f283f"
          }
        },
        "9a2d557d88f04b1ea5ce59f317c564a1": {
          "model_module": "@jupyter-widgets/controls",
          "model_name": "HTMLModel",
          "model_module_version": "1.5.0",
          "state": {
            "_view_name": "HTMLView",
            "style": "IPY_MODEL_b1a820a942f94ee6970190a6bf95067f",
            "_dom_classes": [],
            "description": "",
            "_model_name": "HTMLModel",
            "placeholder": "​",
            "_view_module": "@jupyter-widgets/controls",
            "_model_module_version": "1.5.0",
            "value": " 452M/452M [00:12&lt;00:00, 37.2MB/s]",
            "_view_count": null,
            "_view_module_version": "1.5.0",
            "description_tooltip": null,
            "_model_module": "@jupyter-widgets/controls",
            "layout": "IPY_MODEL_7431ae475ec94d7c96139bc7b3fdaf09"
          }
        },
        "12a6455f8711489e80f13e4b86731dd3": {
          "model_module": "@jupyter-widgets/controls",
          "model_name": "ProgressStyleModel",
          "model_module_version": "1.5.0",
          "state": {
            "_view_name": "StyleView",
            "_model_name": "ProgressStyleModel",
            "description_width": "initial",
            "_view_module": "@jupyter-widgets/base",
            "_model_module_version": "1.5.0",
            "_view_count": null,
            "_view_module_version": "1.2.0",
            "bar_color": null,
            "_model_module": "@jupyter-widgets/controls"
          }
        },
        "7c6c5e0674de4e4e885a0fe8b72f283f": {
          "model_module": "@jupyter-widgets/base",
          "model_name": "LayoutModel",
          "model_module_version": "1.2.0",
          "state": {
            "_view_name": "LayoutView",
            "grid_template_rows": null,
            "right": null,
            "justify_content": null,
            "_view_module": "@jupyter-widgets/base",
            "overflow": null,
            "_model_module_version": "1.2.0",
            "_view_count": null,
            "flex_flow": null,
            "width": null,
            "min_width": null,
            "border": null,
            "align_items": null,
            "bottom": null,
            "_model_module": "@jupyter-widgets/base",
            "top": null,
            "grid_column": null,
            "overflow_y": null,
            "overflow_x": null,
            "grid_auto_flow": null,
            "grid_area": null,
            "grid_template_columns": null,
            "flex": null,
            "_model_name": "LayoutModel",
            "justify_items": null,
            "grid_row": null,
            "max_height": null,
            "align_content": null,
            "visibility": null,
            "align_self": null,
            "height": null,
            "min_height": null,
            "padding": null,
            "grid_auto_rows": null,
            "grid_gap": null,
            "max_width": null,
            "order": null,
            "_view_module_version": "1.2.0",
            "grid_template_areas": null,
            "object_position": null,
            "object_fit": null,
            "grid_auto_columns": null,
            "margin": null,
            "display": null,
            "left": null
          }
        },
        "b1a820a942f94ee6970190a6bf95067f": {
          "model_module": "@jupyter-widgets/controls",
          "model_name": "DescriptionStyleModel",
          "model_module_version": "1.5.0",
          "state": {
            "_view_name": "StyleView",
            "_model_name": "DescriptionStyleModel",
            "description_width": "",
            "_view_module": "@jupyter-widgets/base",
            "_model_module_version": "1.5.0",
            "_view_count": null,
            "_view_module_version": "1.2.0",
            "_model_module": "@jupyter-widgets/controls"
          }
        },
        "7431ae475ec94d7c96139bc7b3fdaf09": {
          "model_module": "@jupyter-widgets/base",
          "model_name": "LayoutModel",
          "model_module_version": "1.2.0",
          "state": {
            "_view_name": "LayoutView",
            "grid_template_rows": null,
            "right": null,
            "justify_content": null,
            "_view_module": "@jupyter-widgets/base",
            "overflow": null,
            "_model_module_version": "1.2.0",
            "_view_count": null,
            "flex_flow": null,
            "width": null,
            "min_width": null,
            "border": null,
            "align_items": null,
            "bottom": null,
            "_model_module": "@jupyter-widgets/base",
            "top": null,
            "grid_column": null,
            "overflow_y": null,
            "overflow_x": null,
            "grid_auto_flow": null,
            "grid_area": null,
            "grid_template_columns": null,
            "flex": null,
            "_model_name": "LayoutModel",
            "justify_items": null,
            "grid_row": null,
            "max_height": null,
            "align_content": null,
            "visibility": null,
            "align_self": null,
            "height": null,
            "min_height": null,
            "padding": null,
            "grid_auto_rows": null,
            "grid_gap": null,
            "max_width": null,
            "order": null,
            "_view_module_version": "1.2.0",
            "grid_template_areas": null,
            "object_position": null,
            "object_fit": null,
            "grid_auto_columns": null,
            "margin": null,
            "display": null,
            "left": null
          }
        },
        "0099a78f661747d1ab8308bfedff955a": {
          "model_module": "@jupyter-widgets/controls",
          "model_name": "HBoxModel",
          "model_module_version": "1.5.0",
          "state": {
            "_view_name": "HBoxView",
            "_dom_classes": [],
            "_model_name": "HBoxModel",
            "_view_module": "@jupyter-widgets/controls",
            "_model_module_version": "1.5.0",
            "_view_count": null,
            "_view_module_version": "1.5.0",
            "box_style": "",
            "layout": "IPY_MODEL_6da5e99e9c4548be945ece58a1fa2535",
            "_model_module": "@jupyter-widgets/controls",
            "children": [
              "IPY_MODEL_7522942c5947400aa29af37ccb186a21",
              "IPY_MODEL_534d70a8b2a2410288e4cb1a89311286"
            ]
          }
        },
        "6da5e99e9c4548be945ece58a1fa2535": {
          "model_module": "@jupyter-widgets/base",
          "model_name": "LayoutModel",
          "model_module_version": "1.2.0",
          "state": {
            "_view_name": "LayoutView",
            "grid_template_rows": null,
            "right": null,
            "justify_content": null,
            "_view_module": "@jupyter-widgets/base",
            "overflow": null,
            "_model_module_version": "1.2.0",
            "_view_count": null,
            "flex_flow": null,
            "width": null,
            "min_width": null,
            "border": null,
            "align_items": null,
            "bottom": null,
            "_model_module": "@jupyter-widgets/base",
            "top": null,
            "grid_column": null,
            "overflow_y": null,
            "overflow_x": null,
            "grid_auto_flow": null,
            "grid_area": null,
            "grid_template_columns": null,
            "flex": null,
            "_model_name": "LayoutModel",
            "justify_items": null,
            "grid_row": null,
            "max_height": null,
            "align_content": null,
            "visibility": null,
            "align_self": null,
            "height": null,
            "min_height": null,
            "padding": null,
            "grid_auto_rows": null,
            "grid_gap": null,
            "max_width": null,
            "order": null,
            "_view_module_version": "1.2.0",
            "grid_template_areas": null,
            "object_position": null,
            "object_fit": null,
            "grid_auto_columns": null,
            "margin": null,
            "display": null,
            "left": null
          }
        },
        "7522942c5947400aa29af37ccb186a21": {
          "model_module": "@jupyter-widgets/controls",
          "model_name": "FloatProgressModel",
          "model_module_version": "1.5.0",
          "state": {
            "_view_name": "ProgressView",
            "style": "IPY_MODEL_cbd1e3da5cac4e30ac0225790160e0e2",
            "_dom_classes": [],
            "description": "Downloading: 100%",
            "_model_name": "FloatProgressModel",
            "bar_style": "success",
            "max": 263326,
            "_view_module": "@jupyter-widgets/controls",
            "_model_module_version": "1.5.0",
            "value": 263326,
            "_view_count": null,
            "_view_module_version": "1.5.0",
            "orientation": "horizontal",
            "min": 0,
            "description_tooltip": null,
            "_model_module": "@jupyter-widgets/controls",
            "layout": "IPY_MODEL_5ddb8efcfe354990b0c2f9a3050bc83b"
          }
        },
        "534d70a8b2a2410288e4cb1a89311286": {
          "model_module": "@jupyter-widgets/controls",
          "model_name": "HTMLModel",
          "model_module_version": "1.5.0",
          "state": {
            "_view_name": "HTMLView",
            "style": "IPY_MODEL_723805313ffa42caa37a67c51ba198f1",
            "_dom_classes": [],
            "description": "",
            "_model_name": "HTMLModel",
            "placeholder": "​",
            "_view_module": "@jupyter-widgets/controls",
            "_model_module_version": "1.5.0",
            "value": " 263k/263k [00:02&lt;00:00, 130kB/s]",
            "_view_count": null,
            "_view_module_version": "1.5.0",
            "description_tooltip": null,
            "_model_module": "@jupyter-widgets/controls",
            "layout": "IPY_MODEL_2348b7f32d94490a93c549e70c61e701"
          }
        },
        "cbd1e3da5cac4e30ac0225790160e0e2": {
          "model_module": "@jupyter-widgets/controls",
          "model_name": "ProgressStyleModel",
          "model_module_version": "1.5.0",
          "state": {
            "_view_name": "StyleView",
            "_model_name": "ProgressStyleModel",
            "description_width": "initial",
            "_view_module": "@jupyter-widgets/base",
            "_model_module_version": "1.5.0",
            "_view_count": null,
            "_view_module_version": "1.2.0",
            "bar_color": null,
            "_model_module": "@jupyter-widgets/controls"
          }
        },
        "5ddb8efcfe354990b0c2f9a3050bc83b": {
          "model_module": "@jupyter-widgets/base",
          "model_name": "LayoutModel",
          "model_module_version": "1.2.0",
          "state": {
            "_view_name": "LayoutView",
            "grid_template_rows": null,
            "right": null,
            "justify_content": null,
            "_view_module": "@jupyter-widgets/base",
            "overflow": null,
            "_model_module_version": "1.2.0",
            "_view_count": null,
            "flex_flow": null,
            "width": null,
            "min_width": null,
            "border": null,
            "align_items": null,
            "bottom": null,
            "_model_module": "@jupyter-widgets/base",
            "top": null,
            "grid_column": null,
            "overflow_y": null,
            "overflow_x": null,
            "grid_auto_flow": null,
            "grid_area": null,
            "grid_template_columns": null,
            "flex": null,
            "_model_name": "LayoutModel",
            "justify_items": null,
            "grid_row": null,
            "max_height": null,
            "align_content": null,
            "visibility": null,
            "align_self": null,
            "height": null,
            "min_height": null,
            "padding": null,
            "grid_auto_rows": null,
            "grid_gap": null,
            "max_width": null,
            "order": null,
            "_view_module_version": "1.2.0",
            "grid_template_areas": null,
            "object_position": null,
            "object_fit": null,
            "grid_auto_columns": null,
            "margin": null,
            "display": null,
            "left": null
          }
        },
        "723805313ffa42caa37a67c51ba198f1": {
          "model_module": "@jupyter-widgets/controls",
          "model_name": "DescriptionStyleModel",
          "model_module_version": "1.5.0",
          "state": {
            "_view_name": "StyleView",
            "_model_name": "DescriptionStyleModel",
            "description_width": "",
            "_view_module": "@jupyter-widgets/base",
            "_model_module_version": "1.5.0",
            "_view_count": null,
            "_view_module_version": "1.2.0",
            "_model_module": "@jupyter-widgets/controls"
          }
        },
        "2348b7f32d94490a93c549e70c61e701": {
          "model_module": "@jupyter-widgets/base",
          "model_name": "LayoutModel",
          "model_module_version": "1.2.0",
          "state": {
            "_view_name": "LayoutView",
            "grid_template_rows": null,
            "right": null,
            "justify_content": null,
            "_view_module": "@jupyter-widgets/base",
            "overflow": null,
            "_model_module_version": "1.2.0",
            "_view_count": null,
            "flex_flow": null,
            "width": null,
            "min_width": null,
            "border": null,
            "align_items": null,
            "bottom": null,
            "_model_module": "@jupyter-widgets/base",
            "top": null,
            "grid_column": null,
            "overflow_y": null,
            "overflow_x": null,
            "grid_auto_flow": null,
            "grid_area": null,
            "grid_template_columns": null,
            "flex": null,
            "_model_name": "LayoutModel",
            "justify_items": null,
            "grid_row": null,
            "max_height": null,
            "align_content": null,
            "visibility": null,
            "align_self": null,
            "height": null,
            "min_height": null,
            "padding": null,
            "grid_auto_rows": null,
            "grid_gap": null,
            "max_width": null,
            "order": null,
            "_view_module_version": "1.2.0",
            "grid_template_areas": null,
            "object_position": null,
            "object_fit": null,
            "grid_auto_columns": null,
            "margin": null,
            "display": null,
            "left": null
          }
        },
        "bd6f2e9231424d7b8f1e34f577eed6c9": {
          "model_module": "@jupyter-widgets/controls",
          "model_name": "HBoxModel",
          "model_module_version": "1.5.0",
          "state": {
            "_view_name": "HBoxView",
            "_dom_classes": [],
            "_model_name": "HBoxModel",
            "_view_module": "@jupyter-widgets/controls",
            "_model_module_version": "1.5.0",
            "_view_count": null,
            "_view_module_version": "1.5.0",
            "box_style": "",
            "layout": "IPY_MODEL_79ba73ad363d4a81b14f309da923b4f5",
            "_model_module": "@jupyter-widgets/controls",
            "children": [
              "IPY_MODEL_1c956af3ea5145e9a50f2dad7a658cad",
              "IPY_MODEL_05e24e4ec54a4355a99038d40e6bb035"
            ]
          }
        },
        "79ba73ad363d4a81b14f309da923b4f5": {
          "model_module": "@jupyter-widgets/base",
          "model_name": "LayoutModel",
          "model_module_version": "1.2.0",
          "state": {
            "_view_name": "LayoutView",
            "grid_template_rows": null,
            "right": null,
            "justify_content": null,
            "_view_module": "@jupyter-widgets/base",
            "overflow": null,
            "_model_module_version": "1.2.0",
            "_view_count": null,
            "flex_flow": null,
            "width": null,
            "min_width": null,
            "border": null,
            "align_items": null,
            "bottom": null,
            "_model_module": "@jupyter-widgets/base",
            "top": null,
            "grid_column": null,
            "overflow_y": null,
            "overflow_x": null,
            "grid_auto_flow": null,
            "grid_area": null,
            "grid_template_columns": null,
            "flex": null,
            "_model_name": "LayoutModel",
            "justify_items": null,
            "grid_row": null,
            "max_height": null,
            "align_content": null,
            "visibility": null,
            "align_self": null,
            "height": null,
            "min_height": null,
            "padding": null,
            "grid_auto_rows": null,
            "grid_gap": null,
            "max_width": null,
            "order": null,
            "_view_module_version": "1.2.0",
            "grid_template_areas": null,
            "object_position": null,
            "object_fit": null,
            "grid_auto_columns": null,
            "margin": null,
            "display": null,
            "left": null
          }
        },
        "1c956af3ea5145e9a50f2dad7a658cad": {
          "model_module": "@jupyter-widgets/controls",
          "model_name": "FloatProgressModel",
          "model_module_version": "1.5.0",
          "state": {
            "_view_name": "ProgressView",
            "style": "IPY_MODEL_8b6bd9a28c2b45f3b0384c0ca0c16955",
            "_dom_classes": [],
            "description": "Downloading: 100%",
            "_model_name": "FloatProgressModel",
            "bar_style": "success",
            "max": 61,
            "_view_module": "@jupyter-widgets/controls",
            "_model_module_version": "1.5.0",
            "value": 61,
            "_view_count": null,
            "_view_module_version": "1.5.0",
            "orientation": "horizontal",
            "min": 0,
            "description_tooltip": null,
            "_model_module": "@jupyter-widgets/controls",
            "layout": "IPY_MODEL_7ca658b2292a42c3b0d86414f66f1f81"
          }
        },
        "05e24e4ec54a4355a99038d40e6bb035": {
          "model_module": "@jupyter-widgets/controls",
          "model_name": "HTMLModel",
          "model_module_version": "1.5.0",
          "state": {
            "_view_name": "HTMLView",
            "style": "IPY_MODEL_2b1972179871457280f9fb58827f290e",
            "_dom_classes": [],
            "description": "",
            "_model_name": "HTMLModel",
            "placeholder": "​",
            "_view_module": "@jupyter-widgets/controls",
            "_model_module_version": "1.5.0",
            "value": " 61.0/61.0 [00:00&lt;00:00, 97.5B/s]",
            "_view_count": null,
            "_view_module_version": "1.5.0",
            "description_tooltip": null,
            "_model_module": "@jupyter-widgets/controls",
            "layout": "IPY_MODEL_89462493b7ee4f44a01c5cc46c0cea8a"
          }
        },
        "8b6bd9a28c2b45f3b0384c0ca0c16955": {
          "model_module": "@jupyter-widgets/controls",
          "model_name": "ProgressStyleModel",
          "model_module_version": "1.5.0",
          "state": {
            "_view_name": "StyleView",
            "_model_name": "ProgressStyleModel",
            "description_width": "initial",
            "_view_module": "@jupyter-widgets/base",
            "_model_module_version": "1.5.0",
            "_view_count": null,
            "_view_module_version": "1.2.0",
            "bar_color": null,
            "_model_module": "@jupyter-widgets/controls"
          }
        },
        "7ca658b2292a42c3b0d86414f66f1f81": {
          "model_module": "@jupyter-widgets/base",
          "model_name": "LayoutModel",
          "model_module_version": "1.2.0",
          "state": {
            "_view_name": "LayoutView",
            "grid_template_rows": null,
            "right": null,
            "justify_content": null,
            "_view_module": "@jupyter-widgets/base",
            "overflow": null,
            "_model_module_version": "1.2.0",
            "_view_count": null,
            "flex_flow": null,
            "width": null,
            "min_width": null,
            "border": null,
            "align_items": null,
            "bottom": null,
            "_model_module": "@jupyter-widgets/base",
            "top": null,
            "grid_column": null,
            "overflow_y": null,
            "overflow_x": null,
            "grid_auto_flow": null,
            "grid_area": null,
            "grid_template_columns": null,
            "flex": null,
            "_model_name": "LayoutModel",
            "justify_items": null,
            "grid_row": null,
            "max_height": null,
            "align_content": null,
            "visibility": null,
            "align_self": null,
            "height": null,
            "min_height": null,
            "padding": null,
            "grid_auto_rows": null,
            "grid_gap": null,
            "max_width": null,
            "order": null,
            "_view_module_version": "1.2.0",
            "grid_template_areas": null,
            "object_position": null,
            "object_fit": null,
            "grid_auto_columns": null,
            "margin": null,
            "display": null,
            "left": null
          }
        },
        "2b1972179871457280f9fb58827f290e": {
          "model_module": "@jupyter-widgets/controls",
          "model_name": "DescriptionStyleModel",
          "model_module_version": "1.5.0",
          "state": {
            "_view_name": "StyleView",
            "_model_name": "DescriptionStyleModel",
            "description_width": "",
            "_view_module": "@jupyter-widgets/base",
            "_model_module_version": "1.5.0",
            "_view_count": null,
            "_view_module_version": "1.2.0",
            "_model_module": "@jupyter-widgets/controls"
          }
        },
        "89462493b7ee4f44a01c5cc46c0cea8a": {
          "model_module": "@jupyter-widgets/base",
          "model_name": "LayoutModel",
          "model_module_version": "1.2.0",
          "state": {
            "_view_name": "LayoutView",
            "grid_template_rows": null,
            "right": null,
            "justify_content": null,
            "_view_module": "@jupyter-widgets/base",
            "overflow": null,
            "_model_module_version": "1.2.0",
            "_view_count": null,
            "flex_flow": null,
            "width": null,
            "min_width": null,
            "border": null,
            "align_items": null,
            "bottom": null,
            "_model_module": "@jupyter-widgets/base",
            "top": null,
            "grid_column": null,
            "overflow_y": null,
            "overflow_x": null,
            "grid_auto_flow": null,
            "grid_area": null,
            "grid_template_columns": null,
            "flex": null,
            "_model_name": "LayoutModel",
            "justify_items": null,
            "grid_row": null,
            "max_height": null,
            "align_content": null,
            "visibility": null,
            "align_self": null,
            "height": null,
            "min_height": null,
            "padding": null,
            "grid_auto_rows": null,
            "grid_gap": null,
            "max_width": null,
            "order": null,
            "_view_module_version": "1.2.0",
            "grid_template_areas": null,
            "object_position": null,
            "object_fit": null,
            "grid_auto_columns": null,
            "margin": null,
            "display": null,
            "left": null
          }
        }
      }
    }
  },
  "cells": [
    {
      "cell_type": "code",
      "metadata": {
        "colab": {
          "base_uri": "https://localhost:8080/"
        },
        "id": "TEC5q4a_XtSH",
        "outputId": "c419ccf3-c434-49e8-efcf-88b75a6796be"
      },
      "source": [
        "pip install transformers"
      ],
      "execution_count": 1,
      "outputs": [
        {
          "output_type": "stream",
          "text": [
            "Collecting transformers\n",
            "  Downloading transformers-4.9.2-py3-none-any.whl (2.6 MB)\n",
            "\u001b[K     |████████████████████████████████| 2.6 MB 8.4 MB/s \n",
            "\u001b[?25hCollecting sacremoses\n",
            "  Downloading sacremoses-0.0.45-py3-none-any.whl (895 kB)\n",
            "\u001b[K     |████████████████████████████████| 895 kB 57.2 MB/s \n",
            "\u001b[?25hCollecting pyyaml>=5.1\n",
            "  Downloading PyYAML-5.4.1-cp37-cp37m-manylinux1_x86_64.whl (636 kB)\n",
            "\u001b[K     |████████████████████████████████| 636 kB 47.7 MB/s \n",
            "\u001b[?25hRequirement already satisfied: tqdm>=4.27 in /usr/local/lib/python3.7/dist-packages (from transformers) (4.41.1)\n",
            "Requirement already satisfied: importlib-metadata in /usr/local/lib/python3.7/dist-packages (from transformers) (4.6.1)\n",
            "Requirement already satisfied: regex!=2019.12.17 in /usr/local/lib/python3.7/dist-packages (from transformers) (2019.12.20)\n",
            "Requirement already satisfied: packaging in /usr/local/lib/python3.7/dist-packages (from transformers) (21.0)\n",
            "Requirement already satisfied: numpy>=1.17 in /usr/local/lib/python3.7/dist-packages (from transformers) (1.19.5)\n",
            "Requirement already satisfied: requests in /usr/local/lib/python3.7/dist-packages (from transformers) (2.23.0)\n",
            "Collecting tokenizers<0.11,>=0.10.1\n",
            "  Downloading tokenizers-0.10.3-cp37-cp37m-manylinux_2_5_x86_64.manylinux1_x86_64.manylinux_2_12_x86_64.manylinux2010_x86_64.whl (3.3 MB)\n",
            "\u001b[K     |████████████████████████████████| 3.3 MB 57.3 MB/s \n",
            "\u001b[?25hCollecting huggingface-hub==0.0.12\n",
            "  Downloading huggingface_hub-0.0.12-py3-none-any.whl (37 kB)\n",
            "Requirement already satisfied: filelock in /usr/local/lib/python3.7/dist-packages (from transformers) (3.0.12)\n",
            "Requirement already satisfied: typing-extensions in /usr/local/lib/python3.7/dist-packages (from huggingface-hub==0.0.12->transformers) (3.7.4.3)\n",
            "Requirement already satisfied: pyparsing>=2.0.2 in /usr/local/lib/python3.7/dist-packages (from packaging->transformers) (2.4.7)\n",
            "Requirement already satisfied: zipp>=0.5 in /usr/local/lib/python3.7/dist-packages (from importlib-metadata->transformers) (3.5.0)\n",
            "Requirement already satisfied: idna<3,>=2.5 in /usr/local/lib/python3.7/dist-packages (from requests->transformers) (2.10)\n",
            "Requirement already satisfied: urllib3!=1.25.0,!=1.25.1,<1.26,>=1.21.1 in /usr/local/lib/python3.7/dist-packages (from requests->transformers) (1.24.3)\n",
            "Requirement already satisfied: chardet<4,>=3.0.2 in /usr/local/lib/python3.7/dist-packages (from requests->transformers) (3.0.4)\n",
            "Requirement already satisfied: certifi>=2017.4.17 in /usr/local/lib/python3.7/dist-packages (from requests->transformers) (2021.5.30)\n",
            "Requirement already satisfied: six in /usr/local/lib/python3.7/dist-packages (from sacremoses->transformers) (1.15.0)\n",
            "Requirement already satisfied: joblib in /usr/local/lib/python3.7/dist-packages (from sacremoses->transformers) (1.0.1)\n",
            "Requirement already satisfied: click in /usr/local/lib/python3.7/dist-packages (from sacremoses->transformers) (7.1.2)\n",
            "Installing collected packages: tokenizers, sacremoses, pyyaml, huggingface-hub, transformers\n",
            "  Attempting uninstall: pyyaml\n",
            "    Found existing installation: PyYAML 3.13\n",
            "    Uninstalling PyYAML-3.13:\n",
            "      Successfully uninstalled PyYAML-3.13\n",
            "Successfully installed huggingface-hub-0.0.12 pyyaml-5.4.1 sacremoses-0.0.45 tokenizers-0.10.3 transformers-4.9.2\n"
          ],
          "name": "stdout"
        }
      ]
    },
    {
      "cell_type": "code",
      "metadata": {
        "colab": {
          "base_uri": "https://localhost:8080/"
        },
        "id": "MGyV0rpAYOiW",
        "outputId": "69e779d4-ac58-43f1-e7e4-fb964673d9be"
      },
      "source": [
        "pip install sentencepiece"
      ],
      "execution_count": 2,
      "outputs": [
        {
          "output_type": "stream",
          "text": [
            "Collecting sentencepiece\n",
            "  Downloading sentencepiece-0.1.96-cp37-cp37m-manylinux_2_17_x86_64.manylinux2014_x86_64.whl (1.2 MB)\n",
            "\u001b[?25l\r\u001b[K     |▎                               | 10 kB 28.7 MB/s eta 0:00:01\r\u001b[K     |▌                               | 20 kB 32.6 MB/s eta 0:00:01\r\u001b[K     |▉                               | 30 kB 13.4 MB/s eta 0:00:01\r\u001b[K     |█                               | 40 kB 10.0 MB/s eta 0:00:01\r\u001b[K     |█▍                              | 51 kB 7.7 MB/s eta 0:00:01\r\u001b[K     |█▋                              | 61 kB 8.0 MB/s eta 0:00:01\r\u001b[K     |██                              | 71 kB 8.4 MB/s eta 0:00:01\r\u001b[K     |██▏                             | 81 kB 7.0 MB/s eta 0:00:01\r\u001b[K     |██▍                             | 92 kB 6.6 MB/s eta 0:00:01\r\u001b[K     |██▊                             | 102 kB 7.3 MB/s eta 0:00:01\r\u001b[K     |███                             | 112 kB 7.3 MB/s eta 0:00:01\r\u001b[K     |███▎                            | 122 kB 7.3 MB/s eta 0:00:01\r\u001b[K     |███▌                            | 133 kB 7.3 MB/s eta 0:00:01\r\u001b[K     |███▉                            | 143 kB 7.3 MB/s eta 0:00:01\r\u001b[K     |████                            | 153 kB 7.3 MB/s eta 0:00:01\r\u001b[K     |████▎                           | 163 kB 7.3 MB/s eta 0:00:01\r\u001b[K     |████▋                           | 174 kB 7.3 MB/s eta 0:00:01\r\u001b[K     |████▉                           | 184 kB 7.3 MB/s eta 0:00:01\r\u001b[K     |█████▏                          | 194 kB 7.3 MB/s eta 0:00:01\r\u001b[K     |█████▍                          | 204 kB 7.3 MB/s eta 0:00:01\r\u001b[K     |█████▊                          | 215 kB 7.3 MB/s eta 0:00:01\r\u001b[K     |██████                          | 225 kB 7.3 MB/s eta 0:00:01\r\u001b[K     |██████▏                         | 235 kB 7.3 MB/s eta 0:00:01\r\u001b[K     |██████▌                         | 245 kB 7.3 MB/s eta 0:00:01\r\u001b[K     |██████▊                         | 256 kB 7.3 MB/s eta 0:00:01\r\u001b[K     |███████                         | 266 kB 7.3 MB/s eta 0:00:01\r\u001b[K     |███████▎                        | 276 kB 7.3 MB/s eta 0:00:01\r\u001b[K     |███████▋                        | 286 kB 7.3 MB/s eta 0:00:01\r\u001b[K     |███████▉                        | 296 kB 7.3 MB/s eta 0:00:01\r\u001b[K     |████████                        | 307 kB 7.3 MB/s eta 0:00:01\r\u001b[K     |████████▍                       | 317 kB 7.3 MB/s eta 0:00:01\r\u001b[K     |████████▋                       | 327 kB 7.3 MB/s eta 0:00:01\r\u001b[K     |█████████                       | 337 kB 7.3 MB/s eta 0:00:01\r\u001b[K     |█████████▏                      | 348 kB 7.3 MB/s eta 0:00:01\r\u001b[K     |█████████▌                      | 358 kB 7.3 MB/s eta 0:00:01\r\u001b[K     |█████████▊                      | 368 kB 7.3 MB/s eta 0:00:01\r\u001b[K     |██████████                      | 378 kB 7.3 MB/s eta 0:00:01\r\u001b[K     |██████████▎                     | 389 kB 7.3 MB/s eta 0:00:01\r\u001b[K     |██████████▌                     | 399 kB 7.3 MB/s eta 0:00:01\r\u001b[K     |██████████▉                     | 409 kB 7.3 MB/s eta 0:00:01\r\u001b[K     |███████████                     | 419 kB 7.3 MB/s eta 0:00:01\r\u001b[K     |███████████▍                    | 430 kB 7.3 MB/s eta 0:00:01\r\u001b[K     |███████████▋                    | 440 kB 7.3 MB/s eta 0:00:01\r\u001b[K     |███████████▉                    | 450 kB 7.3 MB/s eta 0:00:01\r\u001b[K     |████████████▏                   | 460 kB 7.3 MB/s eta 0:00:01\r\u001b[K     |████████████▍                   | 471 kB 7.3 MB/s eta 0:00:01\r\u001b[K     |████████████▊                   | 481 kB 7.3 MB/s eta 0:00:01\r\u001b[K     |█████████████                   | 491 kB 7.3 MB/s eta 0:00:01\r\u001b[K     |█████████████▎                  | 501 kB 7.3 MB/s eta 0:00:01\r\u001b[K     |█████████████▌                  | 512 kB 7.3 MB/s eta 0:00:01\r\u001b[K     |█████████████▊                  | 522 kB 7.3 MB/s eta 0:00:01\r\u001b[K     |██████████████                  | 532 kB 7.3 MB/s eta 0:00:01\r\u001b[K     |██████████████▎                 | 542 kB 7.3 MB/s eta 0:00:01\r\u001b[K     |██████████████▋                 | 552 kB 7.3 MB/s eta 0:00:01\r\u001b[K     |██████████████▉                 | 563 kB 7.3 MB/s eta 0:00:01\r\u001b[K     |███████████████▏                | 573 kB 7.3 MB/s eta 0:00:01\r\u001b[K     |███████████████▍                | 583 kB 7.3 MB/s eta 0:00:01\r\u001b[K     |███████████████▋                | 593 kB 7.3 MB/s eta 0:00:01\r\u001b[K     |████████████████                | 604 kB 7.3 MB/s eta 0:00:01\r\u001b[K     |████████████████▏               | 614 kB 7.3 MB/s eta 0:00:01\r\u001b[K     |████████████████▌               | 624 kB 7.3 MB/s eta 0:00:01\r\u001b[K     |████████████████▊               | 634 kB 7.3 MB/s eta 0:00:01\r\u001b[K     |█████████████████               | 645 kB 7.3 MB/s eta 0:00:01\r\u001b[K     |█████████████████▎              | 655 kB 7.3 MB/s eta 0:00:01\r\u001b[K     |█████████████████▌              | 665 kB 7.3 MB/s eta 0:00:01\r\u001b[K     |█████████████████▉              | 675 kB 7.3 MB/s eta 0:00:01\r\u001b[K     |██████████████████              | 686 kB 7.3 MB/s eta 0:00:01\r\u001b[K     |██████████████████▍             | 696 kB 7.3 MB/s eta 0:00:01\r\u001b[K     |██████████████████▋             | 706 kB 7.3 MB/s eta 0:00:01\r\u001b[K     |███████████████████             | 716 kB 7.3 MB/s eta 0:00:01\r\u001b[K     |███████████████████▏            | 727 kB 7.3 MB/s eta 0:00:01\r\u001b[K     |███████████████████▍            | 737 kB 7.3 MB/s eta 0:00:01\r\u001b[K     |███████████████████▊            | 747 kB 7.3 MB/s eta 0:00:01\r\u001b[K     |████████████████████            | 757 kB 7.3 MB/s eta 0:00:01\r\u001b[K     |████████████████████▎           | 768 kB 7.3 MB/s eta 0:00:01\r\u001b[K     |████████████████████▌           | 778 kB 7.3 MB/s eta 0:00:01\r\u001b[K     |████████████████████▉           | 788 kB 7.3 MB/s eta 0:00:01\r\u001b[K     |█████████████████████           | 798 kB 7.3 MB/s eta 0:00:01\r\u001b[K     |█████████████████████▎          | 808 kB 7.3 MB/s eta 0:00:01\r\u001b[K     |█████████████████████▋          | 819 kB 7.3 MB/s eta 0:00:01\r\u001b[K     |█████████████████████▉          | 829 kB 7.3 MB/s eta 0:00:01\r\u001b[K     |██████████████████████▏         | 839 kB 7.3 MB/s eta 0:00:01\r\u001b[K     |██████████████████████▍         | 849 kB 7.3 MB/s eta 0:00:01\r\u001b[K     |██████████████████████▊         | 860 kB 7.3 MB/s eta 0:00:01\r\u001b[K     |███████████████████████         | 870 kB 7.3 MB/s eta 0:00:01\r\u001b[K     |███████████████████████▏        | 880 kB 7.3 MB/s eta 0:00:01\r\u001b[K     |███████████████████████▌        | 890 kB 7.3 MB/s eta 0:00:01\r\u001b[K     |███████████████████████▊        | 901 kB 7.3 MB/s eta 0:00:01\r\u001b[K     |████████████████████████        | 911 kB 7.3 MB/s eta 0:00:01\r\u001b[K     |████████████████████████▎       | 921 kB 7.3 MB/s eta 0:00:01\r\u001b[K     |████████████████████████▋       | 931 kB 7.3 MB/s eta 0:00:01\r\u001b[K     |████████████████████████▉       | 942 kB 7.3 MB/s eta 0:00:01\r\u001b[K     |█████████████████████████       | 952 kB 7.3 MB/s eta 0:00:01\r\u001b[K     |█████████████████████████▍      | 962 kB 7.3 MB/s eta 0:00:01\r\u001b[K     |█████████████████████████▋      | 972 kB 7.3 MB/s eta 0:00:01\r\u001b[K     |██████████████████████████      | 983 kB 7.3 MB/s eta 0:00:01\r\u001b[K     |██████████████████████████▏     | 993 kB 7.3 MB/s eta 0:00:01\r\u001b[K     |██████████████████████████▌     | 1.0 MB 7.3 MB/s eta 0:00:01\r\u001b[K     |██████████████████████████▊     | 1.0 MB 7.3 MB/s eta 0:00:01\r\u001b[K     |███████████████████████████     | 1.0 MB 7.3 MB/s eta 0:00:01\r\u001b[K     |███████████████████████████▎    | 1.0 MB 7.3 MB/s eta 0:00:01\r\u001b[K     |███████████████████████████▌    | 1.0 MB 7.3 MB/s eta 0:00:01\r\u001b[K     |███████████████████████████▉    | 1.1 MB 7.3 MB/s eta 0:00:01\r\u001b[K     |████████████████████████████    | 1.1 MB 7.3 MB/s eta 0:00:01\r\u001b[K     |████████████████████████████▍   | 1.1 MB 7.3 MB/s eta 0:00:01\r\u001b[K     |████████████████████████████▋   | 1.1 MB 7.3 MB/s eta 0:00:01\r\u001b[K     |████████████████████████████▉   | 1.1 MB 7.3 MB/s eta 0:00:01\r\u001b[K     |█████████████████████████████▏  | 1.1 MB 7.3 MB/s eta 0:00:01\r\u001b[K     |█████████████████████████████▍  | 1.1 MB 7.3 MB/s eta 0:00:01\r\u001b[K     |█████████████████████████████▊  | 1.1 MB 7.3 MB/s eta 0:00:01\r\u001b[K     |██████████████████████████████  | 1.1 MB 7.3 MB/s eta 0:00:01\r\u001b[K     |██████████████████████████████▎ | 1.1 MB 7.3 MB/s eta 0:00:01\r\u001b[K     |██████████████████████████████▌ | 1.2 MB 7.3 MB/s eta 0:00:01\r\u001b[K     |██████████████████████████████▊ | 1.2 MB 7.3 MB/s eta 0:00:01\r\u001b[K     |███████████████████████████████ | 1.2 MB 7.3 MB/s eta 0:00:01\r\u001b[K     |███████████████████████████████▎| 1.2 MB 7.3 MB/s eta 0:00:01\r\u001b[K     |███████████████████████████████▋| 1.2 MB 7.3 MB/s eta 0:00:01\r\u001b[K     |███████████████████████████████▉| 1.2 MB 7.3 MB/s eta 0:00:01\r\u001b[K     |████████████████████████████████| 1.2 MB 7.3 MB/s \n",
            "\u001b[?25hInstalling collected packages: sentencepiece\n",
            "Successfully installed sentencepiece-0.1.96\n"
          ],
          "name": "stdout"
        }
      ]
    },
    {
      "cell_type": "code",
      "metadata": {
        "id": "w9Ml5ILIYQ1B"
      },
      "source": [
        "from transformers import ElectraForSequenceClassification, ElectraTokenizer, XLMRobertaForSequenceClassification, XLMRobertaTokenizer, GPT2ForSequenceClassification, PreTrainedTokenizer, PreTrainedTokenizerFast, BertForSequenceClassification, BertTokenizer\n",
        "import numpy as np \n",
        "import pandas as pd\n",
        "import matplotlib.pyplot as plt \n",
        "import random \n",
        "import re \n",
        "import math \n",
        "from tqdm import tqdm \n",
        "import sklearn \n",
        "import torch \n",
        "import torch.nn as nn \n",
        "import torch.functional as f \n",
        "from torch.utils.data import TensorDataset, DataLoader, RandomSampler, SequentialSampler \n",
        "from sklearn.model_selection import train_test_split \n",
        "import time \n",
        "import datetime\n",
        "import torch.nn.functional as nnf\n"
      ],
      "execution_count": 3,
      "outputs": []
    },
    {
      "cell_type": "markdown",
      "metadata": {
        "id": "GbU5Zx8PY-Uq"
      },
      "source": [
        "# Load Data"
      ]
    },
    {
      "cell_type": "code",
      "metadata": {
        "id": "xXnNBj3GZa10"
      },
      "source": [
        "device = torch.device('cuda')\n",
        "BATCH_SIZE = 8\n",
        "NUM_EPOCHS = 20\n",
        "VALID_SPLIT = 0.1 \n",
        "MAX_LEN = 512 # max token size for BERT, ELECTRA, GPT2"
      ],
      "execution_count": 4,
      "outputs": []
    },
    {
      "cell_type": "code",
      "metadata": {
        "id": "9P60OPavY-JL"
      },
      "source": [
        "test = pd.read_csv('./drive/MyDrive/dacon_NLP/nlp_test.csv') \n",
        "test['요약문_내용'] = test['요약문_연구목표'] + test['요약문_연구내용'] + test['요약문_기대효과'] \n",
        "test['요약문_내용'].fillna('NAN',inplace=True)\n",
        "test_contents = test['요약문_내용'].values \n",
        "test_feature1 = test['사업명'].values \n",
        "test_feature2 = test['사업_부처명'].values \n",
        "test_feature3 = test['내역사업명'].values \n",
        "test_feature4 = test['과제명'].values \n",
        "test_feature5 = test['요약문_한글키워드'].values \n",
        "test_feature6 = test['요약문_영문키워드'].values\n",
        "\n",
        "def clean_text(sent):\n",
        "    sent_clean=re.sub(\"[^가-힣ㄱ-하-ㅣ]\", \" \", sent)\n",
        "    return sent_clean\n",
        "\n",
        "\n",
        "def split_text(s, overlap = 20, chunk_size = 50): \n",
        "    total = [] \n",
        "    partial = [] \n",
        "    if len(s.split()) // (chunk_size - overlap) > 0:  \n",
        "        n = len(s.split()) // (chunk_size - overlap) \n",
        "    else: \n",
        "        n = 1 \n",
        "    for w in range(n): \n",
        "        if w == 0: \n",
        "            partial = s.split()[:chunk_size] \n",
        "            total.append(\" \".join(partial)) \n",
        "        else:  \n",
        "            partial = s.split()[w*(chunk_size - overlap):w*(chunk_size - overlap) + chunk_size]\n",
        "            total.append(\" \".join(partial)) \n",
        "    return total\n"
      ],
      "execution_count": 12,
      "outputs": []
    },
    {
      "cell_type": "code",
      "metadata": {
        "colab": {
          "base_uri": "https://localhost:8080/",
          "height": 237,
          "referenced_widgets": [
            "9bccd0b4aee04738835793abe86de1a6",
            "a06eb03ce9e84d3db105ad69071ab97d",
            "b04ae4cc7aba4c10b61eb40d4d90793c",
            "2cbc8103c540483188f620f24215d0f2",
            "9d8e56799f054bdc84bc0bf4de0e1370",
            "d5a2244fe6924f32a4aed58920552a4b",
            "c778822113854faaa5d06e475e2d9c5b",
            "ddf1a5c061594f8a84ca5c87aa65377b",
            "2bca45b5a94147fdab1d0789bf0c0f71",
            "182e43e1341b413fb39344421d782d6c",
            "e190929a83ab457f90ddef4860152ca9",
            "8efc92e27c3c483bb2379462c97f5b10",
            "913bac3b86be47c48825edf5ff7b5964",
            "574349806f24475d9e2576b0e2e90ef8",
            "51eded3479d044e3abdf807a67d595a2",
            "8eeece6a34034aec9c54788457912ab5"
          ]
        },
        "id": "xvNTTmYNYVoD",
        "outputId": "568ced17-4e0d-4167-9d8b-c285fad8dc3d"
      },
      "source": [
        "## load XLM-Roberta \n",
        "roberta_checkpoint = torch.load(\"./drive/MyDrive/dacon_NLP/XLM_ROBERTA_BASE_voting_6\")\n",
        "test_roberta = XLMRobertaForSequenceClassification.from_pretrained(\"xlm-roberta-base\", num_labels=46) \n",
        "test_roberta.load_state_dict(roberta_checkpoint) \n",
        "test_roberta.cuda()\n",
        "print() "
      ],
      "execution_count": 7,
      "outputs": [
        {
          "output_type": "display_data",
          "data": {
            "application/vnd.jupyter.widget-view+json": {
              "model_id": "9bccd0b4aee04738835793abe86de1a6",
              "version_minor": 0,
              "version_major": 2
            },
            "text/plain": [
              "HBox(children=(FloatProgress(value=0.0, description='Downloading', max=512.0, style=ProgressStyle(description_…"
            ]
          },
          "metadata": {
            "tags": []
          }
        },
        {
          "output_type": "stream",
          "text": [
            "\n"
          ],
          "name": "stdout"
        },
        {
          "output_type": "display_data",
          "data": {
            "application/vnd.jupyter.widget-view+json": {
              "model_id": "2bca45b5a94147fdab1d0789bf0c0f71",
              "version_minor": 0,
              "version_major": 2
            },
            "text/plain": [
              "HBox(children=(FloatProgress(value=0.0, description='Downloading', max=1115590446.0, style=ProgressStyle(descr…"
            ]
          },
          "metadata": {
            "tags": []
          }
        },
        {
          "output_type": "stream",
          "text": [
            "\n"
          ],
          "name": "stdout"
        },
        {
          "output_type": "stream",
          "text": [
            "Some weights of the model checkpoint at xlm-roberta-base were not used when initializing XLMRobertaForSequenceClassification: ['lm_head.dense.bias', 'roberta.pooler.dense.weight', 'lm_head.decoder.weight', 'roberta.pooler.dense.bias', 'lm_head.dense.weight', 'lm_head.layer_norm.weight', 'lm_head.layer_norm.bias', 'lm_head.bias']\n",
            "- This IS expected if you are initializing XLMRobertaForSequenceClassification from the checkpoint of a model trained on another task or with another architecture (e.g. initializing a BertForSequenceClassification model from a BertForPreTraining model).\n",
            "- This IS NOT expected if you are initializing XLMRobertaForSequenceClassification from the checkpoint of a model that you expect to be exactly identical (initializing a BertForSequenceClassification model from a BertForSequenceClassification model).\n",
            "Some weights of XLMRobertaForSequenceClassification were not initialized from the model checkpoint at xlm-roberta-base and are newly initialized: ['classifier.out_proj.weight', 'classifier.out_proj.bias', 'classifier.dense.bias', 'classifier.dense.weight']\n",
            "You should probably TRAIN this model on a down-stream task to be able to use it for predictions and inference.\n"
          ],
          "name": "stderr"
        },
        {
          "output_type": "stream",
          "text": [
            "\n"
          ],
          "name": "stdout"
        }
      ]
    },
    {
      "cell_type": "code",
      "metadata": {
        "colab": {
          "base_uri": "https://localhost:8080/",
          "height": 115,
          "referenced_widgets": [
            "197d167189be492ba05948f556064fdd",
            "9fade435a0e64fedb60ce69151ef9340",
            "e9ce0261d77a410bac2b9baeead63c10",
            "ab11a78064ae4794b1065bdb5a39930c",
            "7ffb3b9ada5842aea56312e83c8e6a96",
            "786e04fc7ea74c6e86100f86b8a387c3",
            "151d033184474e6cb65e6f213cd1c9f1",
            "35413132db0c4c2ebf123cdfd08df929",
            "feb6005801b6457f9b888a511cb4caf2",
            "bb54ab29614b401db9f94c397fd883c5",
            "514e77ef4e2548db8ac41d9820e72b6a",
            "d7e46cce32674d16858ad862067e82f7",
            "d06d85600647445cb723e0d9b932fb85",
            "27605ce9bb3144cba5687eb8d7d2bd08",
            "d82d617511cf4bb8b7f1af8ec712b0ec",
            "7eba8848cf25439a822d2612812079cb"
          ]
        },
        "id": "xsm5q_axYazx",
        "outputId": "2cb05da3-f695-4451-9d11-09688705dcb5"
      },
      "source": [
        "tokenizer_roberta = XLMRobertaTokenizer.from_pretrained(\"xlm-roberta-base\") \n",
        "\n",
        "def roberta_tokenizer(sent, MAX_LEN):  \n",
        "    encoded_dict = tokenizer_roberta.encode_plus(\n",
        "        text = sent, \n",
        "        add_special_tokens = True, # add [CLS] and [SEP]\n",
        "        pad_to_max_length = False, \n",
        "        return_attention_mask = True # constructing attention_masks \n",
        "    )  \n",
        "    \n",
        "    input_id = encoded_dict['input_ids'] \n",
        "    attention_mask = encoded_dict['attention_mask'] # differentiate padding from non padding \n",
        "    \n",
        "    if len(input_id) > 512: # head + tail methodology \n",
        "        input_id = input_id[:129] + input_id[-383:] \n",
        "        attention_mask = attention_mask[:129] + attention_mask[-383:]  \n",
        "        print(\"Long Text!! Using Head+Tail Truncation\")\n",
        "    elif len(input_id) <= 512: \n",
        "        input_id = input_id + [0]*(512 - len(input_id)) \n",
        "        attention_mask = attention_mask + [0]*(512 - len(attention_mask))\n",
        "        \n",
        "    return input_id, attention_mask\n"
      ],
      "execution_count": 8,
      "outputs": [
        {
          "output_type": "display_data",
          "data": {
            "application/vnd.jupyter.widget-view+json": {
              "model_id": "197d167189be492ba05948f556064fdd",
              "version_minor": 0,
              "version_major": 2
            },
            "text/plain": [
              "HBox(children=(FloatProgress(value=0.0, description='Downloading', max=5069051.0, style=ProgressStyle(descript…"
            ]
          },
          "metadata": {
            "tags": []
          }
        },
        {
          "output_type": "stream",
          "text": [
            "\n"
          ],
          "name": "stdout"
        },
        {
          "output_type": "display_data",
          "data": {
            "application/vnd.jupyter.widget-view+json": {
              "model_id": "feb6005801b6457f9b888a511cb4caf2",
              "version_minor": 0,
              "version_major": 2
            },
            "text/plain": [
              "HBox(children=(FloatProgress(value=0.0, description='Downloading', max=9096718.0, style=ProgressStyle(descript…"
            ]
          },
          "metadata": {
            "tags": []
          }
        },
        {
          "output_type": "stream",
          "text": [
            "\n"
          ],
          "name": "stdout"
        }
      ]
    },
    {
      "cell_type": "code",
      "metadata": {
        "colab": {
          "base_uri": "https://localhost:8080/"
        },
        "id": "mAA-7xMQYtKh",
        "outputId": "d1723929-d9c3-4f3d-de0b-cb602af25005"
      },
      "source": [
        "tokenizer_roberta "
      ],
      "execution_count": 9,
      "outputs": [
        {
          "output_type": "execute_result",
          "data": {
            "text/plain": [
              "PreTrainedTokenizer(name_or_path='xlm-roberta-base', vocab_size=250002, model_max_len=512, is_fast=False, padding_side='right', special_tokens={'bos_token': '<s>', 'eos_token': '</s>', 'unk_token': '<unk>', 'sep_token': '</s>', 'pad_token': '<pad>', 'cls_token': '<s>', 'mask_token': AddedToken(\"<mask>\", rstrip=False, lstrip=True, single_word=False, normalized=True)})"
            ]
          },
          "metadata": {
            "tags": []
          },
          "execution_count": 9
        }
      ]
    },
    {
      "cell_type": "code",
      "metadata": {
        "colab": {
          "base_uri": "https://localhost:8080/"
        },
        "id": "1uLkIuuzYwFg",
        "outputId": "850f5f8d-0419-421d-c8f1-b1dfa8407029"
      },
      "source": [
        "roberta_probsum = [] \n",
        "roberta_chunkparts = [] \n",
        "\n",
        "# change to eval mode \n",
        "test_roberta.eval() \n",
        "\n",
        "for i in tqdm(range(test_contents.shape[0]), position=0, leave=True):\n",
        "    f1 = clean_text(str(test_feature1[i])) \n",
        "    f2 = clean_text(str(test_feature2[i])) \n",
        "    f3 = clean_text(str(test_feature3[i])) \n",
        "    f4 = clean_text(str(test_feature4[i])) \n",
        "    f5 = str(test_feature5[i])  \n",
        "    f6 = str(test_feature6[i]) \n",
        "    splitted = split_text(clean_text(str(test_contents[i]))) \n",
        "    # make predictions for each splitted text \n",
        "    probabilities_roberta = [] # store probabilities for electra \n",
        "    for text in splitted: \n",
        "        test_text = f1 + \" \" + f2 + \" \" + f3 + \" \" + f4 + \" \" + f5 + \" \" + f6 + \" \" + text \n",
        "        # tokenize test text \n",
        "        input_id, attention_mask = roberta_tokenizer(test_text, MAX_LEN=MAX_LEN) \n",
        "        input_id = torch.tensor(input_id)\n",
        "        attention_mask = torch.tensor(attention_mask) \n",
        "        # reshape into (batch, MAX_LEN)\n",
        "        input_id = torch.reshape(input_id, (-1, MAX_LEN)) \n",
        "        attention_mask = torch.reshape(attention_mask, (-1, MAX_LEN)) \n",
        "        # move tensor to cuda \n",
        "        input_id = input_id.to(device) \n",
        "        attention_mask = attention_mask.to(device) \n",
        "        with torch.no_grad(): \n",
        "            outputs = test_roberta(input_id, \n",
        "                                   token_type_ids=None,\n",
        "                                   attention_mask = attention_mask)\n",
        "\n",
        "        logits = outputs[0]\n",
        "        \n",
        "        # obtain softmax probabilities  \n",
        "        prob = nnf.softmax(logits, dim=1).flatten() \n",
        "        probabilities_roberta.append(prob)  \n",
        "\n",
        "    # soft voting \n",
        "    prob_sum = np.zeros(46) \n",
        "    for i in range(len(probabilities_roberta)):  \n",
        "      for j in range(46): \n",
        "        prob_sum[j] += probabilities_roberta[i][j]   \n",
        "    \n",
        "    roberta_probsum.append(prob_sum) \n",
        "    roberta_chunkparts.append(len(probabilities_roberta))\n",
        "\n",
        "\n",
        "roberta_probsum = np.asarray(roberta_probsum) \n",
        "roberta_chunkparts = np.asarray(roberta_chunkparts)\n",
        "\n",
        "print(\"saving predicted probabilities values\") \n",
        "np.save('./drive/MyDrive/dacon_NLP/roberta_probsum.npy', roberta_probsum) \n",
        "np.save('./drive/MyDrive/dacon_NLP/roberta_chunkparts.npy', roberta_chunkparts)\n"
      ],
      "execution_count": 12,
      "outputs": [
        {
          "output_type": "stream",
          "text": [
            "  7%|▋         | 3141/43576 [11:15<2:21:51,  4.75it/s]"
          ],
          "name": "stderr"
        },
        {
          "output_type": "stream",
          "text": [
            "Long Text!! Using Head+Tail Truncation\n",
            "Long Text!! Using Head+Tail Truncation\n",
            "Long Text!! Using Head+Tail Truncation\n",
            "Long Text!! Using Head+Tail Truncation\n",
            "Long Text!! Using Head+Tail Truncation\n"
          ],
          "name": "stdout"
        },
        {
          "output_type": "stream",
          "text": [
            " 20%|█▉        | 8594/43576 [30:57<2:22:48,  4.08it/s]"
          ],
          "name": "stderr"
        },
        {
          "output_type": "stream",
          "text": [
            "Long Text!! Using Head+Tail Truncation\n"
          ],
          "name": "stdout"
        },
        {
          "output_type": "stream",
          "text": [
            " 62%|██████▏   | 27182/43576 [1:36:46<47:31,  5.75it/s]"
          ],
          "name": "stderr"
        },
        {
          "output_type": "stream",
          "text": [
            "Long Text!! Using Head+Tail Truncation\n",
            "Long Text!! Using Head+Tail Truncation\n",
            "Long Text!! Using Head+Tail Truncation\n",
            "Long Text!! Using Head+Tail Truncation\n"
          ],
          "name": "stdout"
        },
        {
          "output_type": "stream",
          "text": [
            "100%|██████████| 43576/43576 [2:35:10<00:00,  4.68it/s]"
          ],
          "name": "stderr"
        },
        {
          "output_type": "stream",
          "text": [
            "saving predicted probabilities values\n"
          ],
          "name": "stdout"
        },
        {
          "output_type": "stream",
          "text": [
            "\n"
          ],
          "name": "stderr"
        }
      ]
    },
    {
      "cell_type": "code",
      "metadata": {
        "id": "myJYCp9hZZcM"
      },
      "source": [
        "# coding=utf-8\n",
        "# Copyright 2021 SKT AI Authors.\n",
        "#\n",
        "# Licensed under the Apache License, Version 2.0 (the \"License\");\n",
        "# you may not use this file except in compliance with the License.\n",
        "# You may obtain a copy of the License at\n",
        "#\n",
        "#     http://www.apache.org/licenses/LICENSE-2.0\n",
        "#\n",
        "# Unless required by applicable law or agreed to in writing, software\n",
        "# distributed under the License is distributed on an \"AS IS\" BASIS,\n",
        "# WITHOUT WARRANTIES OR CONDITIONS OF ANY KIND, either express or implied.\n",
        "# See the License for the specific language governing permissions and\n",
        "# limitations under the License.\n",
        "\n",
        "from typing import Any, Dict, List, Optional\n",
        "from transformers.tokenization_utils import AddedToken\n",
        "from transformers import XLNetTokenizer\n",
        "\n",
        "\n",
        "class KoBERTTokenizer(XLNetTokenizer):\n",
        "    def __init__(\n",
        "        self,\n",
        "        vocab_file,\n",
        "        do_lower_case=False,\n",
        "        remove_space=True,\n",
        "        keep_accents=False,\n",
        "        bos_token=\"[CLS]\",\n",
        "        eos_token=\"[SEP]\",\n",
        "        unk_token=\"[UNK]\",\n",
        "        sep_token=\"[SEP]\",\n",
        "        pad_token=\"[PAD]\",\n",
        "        cls_token=\"[CLS]\",\n",
        "        mask_token=\"[MASK]\",\n",
        "        additional_special_tokens=None,\n",
        "        sp_model_kwargs: Optional[Dict[str, Any]] = None,\n",
        "        **kwargs\n",
        "    ) -> None:\n",
        "        # Mask token behave like a normal word, i.e. include the space before it\n",
        "        mask_token = AddedToken(mask_token, lstrip=True, rstrip=False) if isinstance(mask_token, str) else mask_token\n",
        "\n",
        "        self.sp_model_kwargs = {} if sp_model_kwargs is None else sp_model_kwargs\n",
        "\n",
        "        super().__init__(\n",
        "            vocab_file,\n",
        "            do_lower_case=do_lower_case,\n",
        "            remove_space=remove_space,\n",
        "            keep_accents=keep_accents,\n",
        "            bos_token=bos_token,\n",
        "            eos_token=eos_token,\n",
        "            unk_token=unk_token,\n",
        "            sep_token=sep_token,\n",
        "            pad_token=pad_token,\n",
        "            cls_token=cls_token,\n",
        "            mask_token=mask_token,\n",
        "            additional_special_tokens=additional_special_tokens,\n",
        "            sp_model_kwargs=self.sp_model_kwargs,\n",
        "            **kwargs,\n",
        "        )\n",
        "    \n",
        "    def build_inputs_with_special_tokens(\n",
        "        self, token_ids_0: List[int], token_ids_1: Optional[List[int]] = None\n",
        "    ) -> List[int]:\n",
        "        \"\"\"\n",
        "        Build model inputs from a sequence or a pair of sequence for sequence classification tasks by concatenating and\n",
        "        adding special tokens. An XLNet sequence has the following format:\n",
        "        - single sequence: ``<cls> X <sep>``\n",
        "        - pair of sequences: ``<cls> A <sep> B <sep>``\n",
        "        Args:\n",
        "            token_ids_0 (:obj:`List[int]`):\n",
        "                List of IDs to which the special tokens will be added.\n",
        "            token_ids_1 (:obj:`List[int]`, `optional`):\n",
        "                Optional second list of IDs for sequence pairs.\n",
        "        Returns:\n",
        "            :obj:`List[int]`: List of `input IDs <../glossary.html#input-ids>`__ with the appropriate special tokens.\n",
        "        \"\"\"\n",
        "        sep = [self.sep_token_id]\n",
        "        cls = [self.cls_token_id]\n",
        "        if token_ids_1 is None:\n",
        "            return cls + token_ids_0 + sep\n",
        "        return cls + token_ids_0 + sep + token_ids_1 + sep\n",
        "\n",
        "    def _tokenize(self, text: str) -> List[str]:\n",
        "        \"\"\"Tokenize a string.\"\"\"\n",
        "        text = self.preprocess_text(text)\n",
        "        pieces = self.sp_model.encode(text, out_type=str, **self.sp_model_kwargs)\n",
        "        new_pieces = []\n",
        "        for piece in pieces:\n",
        "            if len(piece) > 1 and piece[-1] == str(\",\") and piece[-2].isdigit():\n",
        "                cur_pieces = self.sp_model.EncodeAsPieces(piece[:-1].replace(SPIECE_UNDERLINE, \"\"))\n",
        "                if piece[0] != SPIECE_UNDERLINE and cur_pieces[0][0] == SPIECE_UNDERLINE:\n",
        "                    if len(cur_pieces[0]) == 1:\n",
        "                        cur_pieces = cur_pieces[1:]\n",
        "                    else:\n",
        "                        cur_pieces[0] = cur_pieces[0][1:]\n",
        "                cur_pieces.append(piece[-1])\n",
        "                new_pieces.extend(cur_pieces)\n",
        "            else:\n",
        "                new_pieces.append(piece)\n",
        "\n",
        "        return new_pieces\n",
        "\n",
        "    def create_token_type_ids_from_sequences(\n",
        "            self, token_ids_0: List[int], token_ids_1: Optional[List[int]] = None\n",
        "        ) -> List[int]:\n",
        "            \"\"\"\n",
        "            Create a mask from the two sequences passed to be used in a sequence-pair classification task. An XLNet\n",
        "            sequence pair mask has the following format:\n",
        "            ::\n",
        "                0 0 0 0 0 0 0 0 0 0 0 1 1 1 1 1 1 1 1 1\n",
        "                | first sequence    | second sequence |\n",
        "            If :obj:`token_ids_1` is :obj:`None`, this method only returns the first portion of the mask (0s).\n",
        "            Args:\n",
        "                token_ids_0 (:obj:`List[int]`):\n",
        "                    List of IDs.\n",
        "                token_ids_1 (:obj:`List[int]`, `optional`):\n",
        "                    Optional second list of IDs for sequence pairs.\n",
        "            Returns:\n",
        "                :obj:`List[int]`: List of `token type IDs <../glossary.html#token-type-ids>`_ according to the given\n",
        "                sequence(s).\n",
        "            \"\"\"\n",
        "            sep = [self.sep_token_id]\n",
        "            cls = [self.cls_token_id]\n",
        "            if token_ids_1 is None:\n",
        "                return len(cls + token_ids_0 + sep) * [0]\n",
        "            return len(cls + token_ids_0 + sep) * [0] + len(token_ids_1 + sep) * [1]\n"
      ],
      "execution_count": 13,
      "outputs": []
    },
    {
      "cell_type": "code",
      "metadata": {
        "colab": {
          "base_uri": "https://localhost:8080/",
          "height": 186,
          "referenced_widgets": [
            "b2350347444d4f9f99f66cdb1be65f19",
            "fa5855215360404586de13517b304dbc",
            "1cb2a603b6e745f899b541720e3a9731",
            "3d2559f26ab84b6781e93963e2b3cd33",
            "b2d036b9c41e4325a7bcda8792494b29",
            "fbbd18afc6d74d50b113eda57245299a",
            "c40d0088b3dd4962aa391e7db50a051d",
            "1493f3ac32f146c0b9e05b3c317d38cd",
            "10f58b3ac1814d23a55e6969d56c51e4",
            "f1fff75d575f42529d8b43d457fe5a80",
            "b7be92bfcf18444ba4390f3f14ba54f4",
            "1e02330ebf0d4ef584152867525b3e29",
            "72d4796a55cf45c39e6b6c36a5711266",
            "35d7552f229e4670a1c80ce6a1954971",
            "836c867ccabf46ee8f00bf8ee789221a",
            "51fb7919f54d431e85ae79179d92b28f"
          ]
        },
        "id": "_ptkdRz3bEG_",
        "outputId": "e13d173d-96fa-47ec-b611-07055c7fbd82"
      },
      "source": [
        "# Load KoBERT\n",
        "bert_checkpoint = torch.load(\"drive/MyDrive/dacon_NLP/KoBERT_MORE_FEATURES_6\")\n",
        "test_bert = BertForSequenceClassification.from_pretrained(\"skt/kobert-base-v1\", num_labels=46)\n",
        "test_bert.load_state_dict(bert_checkpoint)\n",
        "test_bert.cuda()\n",
        "print()"
      ],
      "execution_count": 14,
      "outputs": [
        {
          "output_type": "display_data",
          "data": {
            "application/vnd.jupyter.widget-view+json": {
              "model_id": "b2350347444d4f9f99f66cdb1be65f19",
              "version_minor": 0,
              "version_major": 2
            },
            "text/plain": [
              "HBox(children=(FloatProgress(value=0.0, description='Downloading', max=535.0, style=ProgressStyle(description_…"
            ]
          },
          "metadata": {
            "tags": []
          }
        },
        {
          "output_type": "stream",
          "text": [
            "\n"
          ],
          "name": "stdout"
        },
        {
          "output_type": "display_data",
          "data": {
            "application/vnd.jupyter.widget-view+json": {
              "model_id": "10f58b3ac1814d23a55e6969d56c51e4",
              "version_minor": 0,
              "version_major": 2
            },
            "text/plain": [
              "HBox(children=(FloatProgress(value=0.0, description='Downloading', max=368792544.0, style=ProgressStyle(descri…"
            ]
          },
          "metadata": {
            "tags": []
          }
        },
        {
          "output_type": "stream",
          "text": [
            "\n"
          ],
          "name": "stdout"
        },
        {
          "output_type": "stream",
          "text": [
            "Some weights of BertForSequenceClassification were not initialized from the model checkpoint at skt/kobert-base-v1 and are newly initialized: ['classifier.weight', 'classifier.bias']\n",
            "You should probably TRAIN this model on a down-stream task to be able to use it for predictions and inference.\n"
          ],
          "name": "stderr"
        },
        {
          "output_type": "stream",
          "text": [
            "\n"
          ],
          "name": "stdout"
        }
      ]
    },
    {
      "cell_type": "code",
      "metadata": {
        "colab": {
          "base_uri": "https://localhost:8080/"
        },
        "id": "rMXr8sBqbGKS",
        "outputId": "89180de9-13e0-4272-d395-618bcb9e34f8"
      },
      "source": [
        "#from kobert_tokenizer import KoBERTTokenizer\n",
        "tokenizer_bert = KoBERTTokenizer.from_pretrained('skt/kobert-base-v1')\n",
        "\n",
        "\n",
        "def bert_tokenizer(sent, MAX_LEN):  \n",
        "    encoded_dict = tokenizer_bert.encode_plus(\n",
        "        text = sent, \n",
        "        add_special_tokens = True, # add [CLS] and [SEP]\n",
        "        pad_to_max_length = False, \n",
        "        return_attention_mask = True # constructing attention_masks \n",
        "    )  \n",
        "    \n",
        "    input_id = encoded_dict['input_ids'] \n",
        "    attention_mask = encoded_dict['attention_mask'] # differentiate padding from non padding \n",
        "    token_type_id = encoded_dict['token_type_ids'] # differentiate two sentences, not \"really\" necessary for now    \n",
        "    \n",
        "    if len(input_id) > 512: # head + tail methodology \n",
        "        input_id = input_id[:129] + input_id[-383:] \n",
        "        attention_mask = attention_mask[:129] + attention_mask[-383:]  \n",
        "        token_type_id = token_type_id[:129] + token_type_id[-383:]    \n",
        "        print(\"Long Text!! Using Head+Tail Truncation\")\n",
        "    elif len(input_id) <= 512: \n",
        "        input_id = input_id + [0]*(512 - len(input_id)) \n",
        "        attention_mask = attention_mask + [0]*(512 - len(attention_mask))\n",
        "        token_type_id = token_type_id + [0]*(512 - len(token_type_id))  \n",
        "        \n",
        "    return input_id, attention_mask, token_type_id\n"
      ],
      "execution_count": 17,
      "outputs": [
        {
          "output_type": "stream",
          "text": [
            "The tokenizer class you load from this checkpoint is not the same type as the class this function is called from. It may result in unexpected tokenization. \n",
            "The tokenizer class you load from this checkpoint is 'XLNetTokenizer'. \n",
            "The class this function is called from is 'KoBERTTokenizer'.\n"
          ],
          "name": "stderr"
        }
      ]
    },
    {
      "cell_type": "code",
      "metadata": {
        "colab": {
          "base_uri": "https://localhost:8080/"
        },
        "id": "zFTpLXL3bH-Y",
        "outputId": "986f50a0-388d-4475-ce9b-07f93c45d3c4"
      },
      "source": [
        "bert_probsum = [] \n",
        "bert_chunkparts = [] \n",
        "\n",
        "# change to eval mode \n",
        "test_bert.eval() \n",
        "\n",
        "for i in tqdm(range(test_contents.shape[0]), position=0, leave=True):\n",
        "    f1 = clean_text(str(test_feature1[i])) \n",
        "    f2 = clean_text(str(test_feature2[i])) \n",
        "    f3 = clean_text(str(test_feature3[i])) \n",
        "    f4 = clean_text(str(test_feature4[i])) \n",
        "    f5 = str(test_feature5[i])  \n",
        "    #f6 = str(test_feature6[i]) \n",
        "    splitted = split_text(clean_text(str(test_contents[i]))) \n",
        "    # make predictions for each splitted text \n",
        "    probabilities_bert = [] # store probabilities for electra \n",
        "    for text in splitted: \n",
        "        test_text = f1 + \" \" + f2 + \" \" + f3 + \" \" + f4 + \" \" + f5 + \" \" + text \n",
        "        # tokenize test text \n",
        "        input_id, attention_mask, token_type_ids = bert_tokenizer(test_text, MAX_LEN=MAX_LEN) \n",
        "        input_id = torch.tensor(input_id)\n",
        "        attention_mask = torch.tensor(attention_mask) \n",
        "        token_type_ids = torch.tensor(token_type_ids) \n",
        "        # reshape into (batch, MAX_LEN)\n",
        "        input_id = torch.reshape(input_id, (-1, MAX_LEN)) \n",
        "        attention_mask = torch.reshape(attention_mask, (-1, MAX_LEN)) \n",
        "        token_type_ids = torch.reshape(token_type_ids, (-1, MAX_LEN)) \n",
        "        # move tensor to cuda \n",
        "        input_id = input_id.to(device) \n",
        "        attention_mask = attention_mask.to(device) \n",
        "        token_type_ids = token_type_ids.to(device) \n",
        "        with torch.no_grad(): \n",
        "            outputs = test_bert(input_id, \n",
        "                                token_type_ids=token_type_ids,\n",
        "                                attention_mask = attention_mask)\n",
        "\n",
        "        logits = outputs[0]\n",
        "        \n",
        "        # obtain softmax probabilities  \n",
        "        prob = nnf.softmax(logits, dim=1).flatten() \n",
        "        probabilities_bert.append(prob)  \n",
        "\n",
        "    # soft voting \n",
        "    prob_sum = np.zeros(46) \n",
        "    for i in range(len(probabilities_bert)):  \n",
        "      for j in range(46): \n",
        "        prob_sum[j] += probabilities_bert[i][j]   \n",
        "    \n",
        "    bert_probsum.append(prob_sum) \n",
        "    bert_chunkparts.append(len(probabilities_bert))\n",
        "\n",
        "\n",
        "bert_probsum = np.asarray(bert_probsum) \n",
        "bert_chunkparts = np.asarray(bert_chunkparts)\n",
        "\n",
        "print(\"saving predicted probabilities values\") \n",
        "np.save('./drive/MyDrive/dacon_NLP/bert_probsum.npy', bert_probsum) \n",
        "np.save('./drive/MyDrive/dacon_NLP/bert_chunkparts.npy', bert_chunkparts)\n"
      ],
      "execution_count": 18,
      "outputs": [
        {
          "output_type": "stream",
          "text": [
            "  7%|▋         | 3141/43576 [11:13<2:21:52,  4.75it/s]"
          ],
          "name": "stderr"
        },
        {
          "output_type": "stream",
          "text": [
            "Long Text!! Using Head+Tail Truncation\n",
            "Long Text!! Using Head+Tail Truncation\n",
            "Long Text!! Using Head+Tail Truncation\n",
            "Long Text!! Using Head+Tail Truncation\n",
            "Long Text!! Using Head+Tail Truncation\n"
          ],
          "name": "stdout"
        },
        {
          "output_type": "stream",
          "text": [
            " 20%|█▉        | 8594/43576 [30:51<2:22:01,  4.11it/s]"
          ],
          "name": "stderr"
        },
        {
          "output_type": "stream",
          "text": [
            "Long Text!! Using Head+Tail Truncation\n"
          ],
          "name": "stdout"
        },
        {
          "output_type": "stream",
          "text": [
            " 62%|██████▏   | 27182/43576 [1:36:21<47:06,  5.80it/s]"
          ],
          "name": "stderr"
        },
        {
          "output_type": "stream",
          "text": [
            "Long Text!! Using Head+Tail Truncation\n",
            "Long Text!! Using Head+Tail Truncation\n",
            "Long Text!! Using Head+Tail Truncation\n"
          ],
          "name": "stdout"
        },
        {
          "output_type": "stream",
          "text": [
            "100%|██████████| 43576/43576 [2:34:33<00:00,  4.70it/s]"
          ],
          "name": "stderr"
        },
        {
          "output_type": "stream",
          "text": [
            "saving predicted probabilities values\n"
          ],
          "name": "stdout"
        },
        {
          "output_type": "stream",
          "text": [
            "\n"
          ],
          "name": "stderr"
        }
      ]
    },
    {
      "cell_type": "markdown",
      "metadata": {
        "id": "Rl5nmsO3biFS"
      },
      "source": [
        "# GPT-2"
      ]
    },
    {
      "cell_type": "code",
      "metadata": {
        "colab": {
          "base_uri": "https://localhost:8080/",
          "height": 186,
          "referenced_widgets": [
            "ce470c32f54645ac93de2319a663f1ee",
            "1026584fe74c421088c29ca4fa1108db",
            "b368eb7b38504fd5af72635dad7669aa",
            "bd01f88249604c788a9abbe2c43096c8",
            "c0c391a09ca344fb94f3058388dea333",
            "d2fe4ecb139f4aa48b99a7202c6efd3d",
            "2333288e3ebb4d17bd7f978712147d0e",
            "478e04ae18364bb78f628dd36320a5fd",
            "e02c723448d245caa530d956f49be692",
            "a222f0abdbba4977bc1fd01e0c62a9ca",
            "0b3725eab14b499db8565a5b79a61590",
            "9e576f307a8e42b7b85cc361a4e5f850",
            "6ada5d673b4d4d2f9341ea129acef121",
            "6ef299c5bf94436abd1f5fd8289cb358",
            "2d81c8b8cf634ad5961cf36bbdf296fd",
            "69e578f487db4f3983ca4c8d2be4c310"
          ]
        },
        "id": "pl0D9ioDbcVG",
        "outputId": "12638a77-1fc3-48f3-d4f9-cf094d8deec4"
      },
      "source": [
        "tokenizer_gpt2 = PreTrainedTokenizerFast.from_pretrained(\"skt/kogpt2-base-v2\",\n",
        "                                                     bos_token='</s>',\n",
        "                                                     eos_token='</s>',\n",
        "                                                     unk_token='<unk>',\n",
        "                                                     pad_token='<pad>',\n",
        "                                                     mask_token='<mask>') \n",
        "\n",
        " \n",
        "\n",
        "def gpt2_tokenizer(sent, MAX_LEN):  \n",
        "    encoded_dict = tokenizer_gpt2.encode_plus(\n",
        "        text = sent, \n",
        "        add_special_tokens = True, # add [CLS] and [SEP]\n",
        "        pad_to_max_length = False, \n",
        "        return_attention_mask = True # constructing attention_masks \n",
        "    )  \n",
        "    \n",
        "    input_id = encoded_dict['input_ids'] \n",
        "    attention_mask = encoded_dict['attention_mask'] # differentiate padding from non padding \n",
        "    \n",
        "    if len(input_id) > 512: # head + tail methodology \n",
        "        input_id = input_id[:129] + input_id[-383:] \n",
        "        attention_mask = attention_mask[:129] + attention_mask[-383:]  \n",
        "        print(\"Long Text!! Using Head+Tail Truncation\")\n",
        "    elif len(input_id) <= 512: \n",
        "        input_id = input_id + [0]*(512 - len(input_id)) \n",
        "        attention_mask = attention_mask + [0]*(512 - len(attention_mask))\n",
        "        \n",
        "    return input_id, attention_mask\n"
      ],
      "execution_count": 6,
      "outputs": [
        {
          "output_type": "display_data",
          "data": {
            "application/vnd.jupyter.widget-view+json": {
              "model_id": "ce470c32f54645ac93de2319a663f1ee",
              "version_minor": 0,
              "version_major": 2
            },
            "text/plain": [
              "HBox(children=(FloatProgress(value=0.0, description='Downloading', max=2825034.0, style=ProgressStyle(descript…"
            ]
          },
          "metadata": {
            "tags": []
          }
        },
        {
          "output_type": "stream",
          "text": [
            "\n"
          ],
          "name": "stdout"
        },
        {
          "output_type": "display_data",
          "data": {
            "application/vnd.jupyter.widget-view+json": {
              "model_id": "e02c723448d245caa530d956f49be692",
              "version_minor": 0,
              "version_major": 2
            },
            "text/plain": [
              "HBox(children=(FloatProgress(value=0.0, description='Downloading', max=1000.0, style=ProgressStyle(description…"
            ]
          },
          "metadata": {
            "tags": []
          }
        },
        {
          "output_type": "stream",
          "text": [
            "The tokenizer class you load from this checkpoint is not the same type as the class this function is called from. It may result in unexpected tokenization. \n",
            "The tokenizer class you load from this checkpoint is 'GPT2Tokenizer'. \n",
            "The class this function is called from is 'PreTrainedTokenizerFast'.\n"
          ],
          "name": "stderr"
        },
        {
          "output_type": "stream",
          "text": [
            "\n"
          ],
          "name": "stdout"
        }
      ]
    },
    {
      "cell_type": "code",
      "metadata": {
        "colab": {
          "base_uri": "https://localhost:8080/",
          "height": 188,
          "referenced_widgets": [
            "46ffb93af58c4ce283cf0d8a5390e3b0",
            "5b449c97976f40689cae4cbbeda9daee",
            "631c6d845acd45fea257447b8c1bc7b8",
            "66c8bb2c48714709b9d7a0ee2ecce927",
            "8d765b6db1e84375a4bcc779d1592b8e",
            "eec26186a98a41829f6fbc76bbbf2c1f",
            "2f33b796d5eb498f94ba497c23920b16",
            "27709f1cf33c4e30b86055642433055a"
          ]
        },
        "id": "3dyaApeabxj4",
        "outputId": "21899c8d-d29f-418b-96ce-6d14c4230664"
      },
      "source": [
        "## load gpt2 \n",
        "gpt2_checkpoint = torch.load(\"./drive/MyDrive/dacon_NLP/KoGPT2_voting_7\")\n",
        "test_gpt2 = GPT2ForSequenceClassification.from_pretrained(\"skt/kogpt2-base-v2\", num_labels=46) \n",
        "test_gpt2.load_state_dict(gpt2_checkpoint)\n",
        "test_gpt2.cuda() \n",
        "print() "
      ],
      "execution_count": 7,
      "outputs": [
        {
          "output_type": "display_data",
          "data": {
            "application/vnd.jupyter.widget-view+json": {
              "model_id": "46ffb93af58c4ce283cf0d8a5390e3b0",
              "version_minor": 0,
              "version_major": 2
            },
            "text/plain": [
              "HBox(children=(FloatProgress(value=0.0, description='Downloading', max=513302779.0, style=ProgressStyle(descri…"
            ]
          },
          "metadata": {
            "tags": []
          }
        },
        {
          "output_type": "stream",
          "text": [
            "\n"
          ],
          "name": "stdout"
        },
        {
          "output_type": "stream",
          "text": [
            "Some weights of the model checkpoint at skt/kogpt2-base-v2 were not used when initializing GPT2ForSequenceClassification: ['lm_head.weight']\n",
            "- This IS expected if you are initializing GPT2ForSequenceClassification from the checkpoint of a model trained on another task or with another architecture (e.g. initializing a BertForSequenceClassification model from a BertForPreTraining model).\n",
            "- This IS NOT expected if you are initializing GPT2ForSequenceClassification from the checkpoint of a model that you expect to be exactly identical (initializing a BertForSequenceClassification model from a BertForSequenceClassification model).\n",
            "Some weights of GPT2ForSequenceClassification were not initialized from the model checkpoint at skt/kogpt2-base-v2 and are newly initialized: ['score.weight']\n",
            "You should probably TRAIN this model on a down-stream task to be able to use it for predictions and inference.\n"
          ],
          "name": "stderr"
        },
        {
          "output_type": "stream",
          "text": [
            "\n"
          ],
          "name": "stdout"
        }
      ]
    },
    {
      "cell_type": "code",
      "metadata": {
        "id": "JOaCXdxybzoh"
      },
      "source": [
        "tokenizer_gpt2.padding_side = 'left'\n",
        "test_gpt2.resize_token_embeddings(len(tokenizer_gpt2))\n",
        "test_gpt2.config.pad_token_id = tokenizer_gpt2.pad_token_id\n"
      ],
      "execution_count": 10,
      "outputs": []
    },
    {
      "cell_type": "code",
      "metadata": {
        "colab": {
          "base_uri": "https://localhost:8080/"
        },
        "id": "jb-AG6hBb117",
        "outputId": "6a1e1864-8fdb-42d4-8ab6-3cdaec3c9ccc"
      },
      "source": [
        "gpt2_probsum = [] \n",
        "gpt2_chunkparts = [] \n",
        "\n",
        "# change to eval mode \n",
        "test_gpt2.eval() \n",
        "\n",
        "for i in tqdm(range(test_contents.shape[0]), position=0, leave=True):\n",
        "    f1 = clean_text(str(test_feature1[i])) \n",
        "    f2 = clean_text(str(test_feature2[i])) \n",
        "    f3 = clean_text(str(test_feature3[i])) \n",
        "    f4 = clean_text(str(test_feature4[i])) \n",
        "    f5 = str(test_feature5[i])  \n",
        "    splitted = split_text(clean_text(str(test_contents[i]))) \n",
        "    # make predictions for each splitted text \n",
        "    probabilities_gpt2 = [] # store probabilities for electra \n",
        "    for text in splitted: \n",
        "        test_text = f1 + \" \" + f2 + \" \" + f3 + \" \" + f4 + \" \" + f5 + \" \" + text \n",
        "        # tokenize test text \n",
        "        input_id, attention_mask = gpt2_tokenizer(test_text, MAX_LEN=MAX_LEN) \n",
        "        input_id = torch.tensor(input_id)\n",
        "        attention_mask = torch.tensor(attention_mask) \n",
        "        # reshape into (batch, MAX_LEN)\n",
        "        input_id = torch.reshape(input_id, (-1, MAX_LEN)) \n",
        "        attention_mask = torch.reshape(attention_mask, (-1, MAX_LEN)) \n",
        "        # move tensor to cuda \n",
        "        input_id = input_id.to(device) \n",
        "        attention_mask = attention_mask.to(device) \n",
        "        with torch.no_grad(): \n",
        "            outputs = test_gpt2(input_id, \n",
        "                                token_type_ids=None,\n",
        "                                attention_mask = attention_mask)\n",
        "\n",
        "        logits = outputs[0]\n",
        "        \n",
        "        # obtain softmax probabilities  \n",
        "        prob = nnf.softmax(logits, dim=1).flatten() \n",
        "        probabilities_gpt2.append(prob)  \n",
        "\n",
        "    # soft voting \n",
        "    prob_sum = np.zeros(46) \n",
        "    for i in range(len(probabilities_gpt2)):  \n",
        "      for j in range(46): \n",
        "        prob_sum[j] += probabilities_gpt2[i][j]   \n",
        "    \n",
        "    gpt2_probsum.append(prob_sum) \n",
        "    gpt2_chunkparts.append(len(probabilities_gpt2))\n",
        "\n",
        "\n",
        "gpt2_probsum = np.asarray(gpt2_probsum) \n",
        "gpt2_chunkparts = np.asarray(gpt2_chunkparts)\n",
        "\n",
        "print(\"saving predicted probabilities values\") \n",
        "np.save('./drive/MyDrive/dacon_NLP/gpt2_probsum.npy', gpt2_probsum) \n",
        "np.save('./drive/MyDrive/dacon_NLP/gpt2_chunkparts.npy', gpt2_chunkparts)\n"
      ],
      "execution_count": 13,
      "outputs": [
        {
          "output_type": "stream",
          "text": [
            "  7%|▋         | 3141/43576 [13:36<2:52:48,  3.90it/s]"
          ],
          "name": "stderr"
        },
        {
          "output_type": "stream",
          "text": [
            "Long Text!! Using Head+Tail Truncation\n"
          ],
          "name": "stdout"
        },
        {
          "output_type": "stream",
          "text": [
            " 20%|█▉        | 8594/43576 [37:25<2:55:06,  3.33it/s]"
          ],
          "name": "stderr"
        },
        {
          "output_type": "stream",
          "text": [
            "Long Text!! Using Head+Tail Truncation\n"
          ],
          "name": "stdout"
        },
        {
          "output_type": "stream",
          "text": [
            " 60%|██████    | 26322/43576 [1:53:21<2:21:23,  2.03it/s]"
          ],
          "name": "stderr"
        },
        {
          "output_type": "stream",
          "text": [
            "Long Text!! Using Head+Tail Truncation\n"
          ],
          "name": "stdout"
        },
        {
          "output_type": "stream",
          "text": [
            "\r 60%|██████    | 26323/43576 [1:53:22<2:38:04,  1.82it/s]"
          ],
          "name": "stderr"
        },
        {
          "output_type": "stream",
          "text": [
            "Long Text!! Using Head+Tail Truncation\n",
            "Long Text!! Using Head+Tail Truncation\n"
          ],
          "name": "stdout"
        },
        {
          "output_type": "stream",
          "text": [
            " 62%|██████▏   | 27182/43576 [1:56:56<55:18,  4.94it/s]  "
          ],
          "name": "stderr"
        },
        {
          "output_type": "stream",
          "text": [
            "Long Text!! Using Head+Tail Truncation\n"
          ],
          "name": "stdout"
        },
        {
          "output_type": "stream",
          "text": [
            "100%|██████████| 43576/43576 [3:07:12<00:00,  3.88it/s]"
          ],
          "name": "stderr"
        },
        {
          "output_type": "stream",
          "text": [
            "saving predicted probabilities values\n"
          ],
          "name": "stdout"
        },
        {
          "output_type": "stream",
          "text": [
            "\n"
          ],
          "name": "stderr"
        }
      ]
    },
    {
      "cell_type": "markdown",
      "metadata": {
        "id": "HMW411KvciUz"
      },
      "source": [
        "# ELECTRA"
      ]
    },
    {
      "cell_type": "code",
      "metadata": {
        "colab": {
          "base_uri": "https://localhost:8080/",
          "height": 237,
          "referenced_widgets": [
            "3a9f096cf7fd4a0083f43cfe8ecbf7cd",
            "949d29dd1e5e4355947ce267d2d78cb9",
            "9f34b1a7680c4e82a3c1af8be5bac7ad",
            "571c21660b6240b687a6804977634a5c",
            "95bf9c48e7b5422581674a244db16494",
            "035f210566364df28182df49985e797b",
            "21700157637f45ae8e11336e77cc2749",
            "d9e0f86fd22943b994768b2bada687b8",
            "bd717bce7ee04e7aae189fe5413ba34e",
            "b867baaa74f945808ee8961953bff933",
            "1d07a883d99349ec8cac11897afe6a1b",
            "9a2d557d88f04b1ea5ce59f317c564a1",
            "12a6455f8711489e80f13e4b86731dd3",
            "7c6c5e0674de4e4e885a0fe8b72f283f",
            "b1a820a942f94ee6970190a6bf95067f",
            "7431ae475ec94d7c96139bc7b3fdaf09"
          ]
        },
        "id": "BCKwVG_Bb-wo",
        "outputId": "d41f7d4e-5a6f-47d5-a48f-17440c5c75a1"
      },
      "source": [
        "electra_checkpoint = torch.load('drive/MyDrive/dacon_NLP/ELECTRA_MORE_FEATURES_6') \n",
        "test_electra = ElectraForSequenceClassification.from_pretrained(\"monologg/koelectra-base-v3-discriminator\", num_labels=46) \n",
        "test_electra.load_state_dict(electra_checkpoint) \n",
        "test_electra.cuda()\n",
        "print()"
      ],
      "execution_count": 14,
      "outputs": [
        {
          "output_type": "display_data",
          "data": {
            "application/vnd.jupyter.widget-view+json": {
              "model_id": "3a9f096cf7fd4a0083f43cfe8ecbf7cd",
              "version_minor": 0,
              "version_major": 2
            },
            "text/plain": [
              "HBox(children=(FloatProgress(value=0.0, description='Downloading', max=467.0, style=ProgressStyle(description_…"
            ]
          },
          "metadata": {
            "tags": []
          }
        },
        {
          "output_type": "stream",
          "text": [
            "\n"
          ],
          "name": "stdout"
        },
        {
          "output_type": "display_data",
          "data": {
            "application/vnd.jupyter.widget-view+json": {
              "model_id": "bd717bce7ee04e7aae189fe5413ba34e",
              "version_minor": 0,
              "version_major": 2
            },
            "text/plain": [
              "HBox(children=(FloatProgress(value=0.0, description='Downloading', max=451741507.0, style=ProgressStyle(descri…"
            ]
          },
          "metadata": {
            "tags": []
          }
        },
        {
          "output_type": "stream",
          "text": [
            "\n"
          ],
          "name": "stdout"
        },
        {
          "output_type": "stream",
          "text": [
            "Some weights of the model checkpoint at monologg/koelectra-base-v3-discriminator were not used when initializing ElectraForSequenceClassification: ['discriminator_predictions.dense.weight', 'discriminator_predictions.dense_prediction.bias', 'discriminator_predictions.dense_prediction.weight', 'discriminator_predictions.dense.bias']\n",
            "- This IS expected if you are initializing ElectraForSequenceClassification from the checkpoint of a model trained on another task or with another architecture (e.g. initializing a BertForSequenceClassification model from a BertForPreTraining model).\n",
            "- This IS NOT expected if you are initializing ElectraForSequenceClassification from the checkpoint of a model that you expect to be exactly identical (initializing a BertForSequenceClassification model from a BertForSequenceClassification model).\n",
            "Some weights of ElectraForSequenceClassification were not initialized from the model checkpoint at monologg/koelectra-base-v3-discriminator and are newly initialized: ['classifier.dense.weight', 'classifier.out_proj.weight', 'classifier.dense.bias', 'classifier.out_proj.bias']\n",
            "You should probably TRAIN this model on a down-stream task to be able to use it for predictions and inference.\n"
          ],
          "name": "stderr"
        },
        {
          "output_type": "stream",
          "text": [
            "\n"
          ],
          "name": "stdout"
        }
      ]
    },
    {
      "cell_type": "code",
      "metadata": {
        "colab": {
          "base_uri": "https://localhost:8080/",
          "height": 115,
          "referenced_widgets": [
            "0099a78f661747d1ab8308bfedff955a",
            "6da5e99e9c4548be945ece58a1fa2535",
            "7522942c5947400aa29af37ccb186a21",
            "534d70a8b2a2410288e4cb1a89311286",
            "cbd1e3da5cac4e30ac0225790160e0e2",
            "5ddb8efcfe354990b0c2f9a3050bc83b",
            "723805313ffa42caa37a67c51ba198f1",
            "2348b7f32d94490a93c549e70c61e701",
            "bd6f2e9231424d7b8f1e34f577eed6c9",
            "79ba73ad363d4a81b14f309da923b4f5",
            "1c956af3ea5145e9a50f2dad7a658cad",
            "05e24e4ec54a4355a99038d40e6bb035",
            "8b6bd9a28c2b45f3b0384c0ca0c16955",
            "7ca658b2292a42c3b0d86414f66f1f81",
            "2b1972179871457280f9fb58827f290e",
            "89462493b7ee4f44a01c5cc46c0cea8a"
          ]
        },
        "id": "q6ghcWaecmIQ",
        "outputId": "b74f1cb5-2df7-40eb-df6b-6cd68cefc105"
      },
      "source": [
        "tokenizer_electra = ElectraTokenizer.from_pretrained(\"monologg/koelectra-base-v3-discriminator\") \n",
        "\n",
        "def electra_tokenizer(sent, MAX_LEN):  \n",
        "    encoded_dict = tokenizer_electra.encode_plus(\n",
        "        text = sent, \n",
        "        add_special_tokens = True, # add [CLS] and [SEP]\n",
        "        pad_to_max_length = False, \n",
        "        return_attention_mask = True # constructing attention_masks \n",
        "    )  \n",
        "    \n",
        "    input_id = encoded_dict['input_ids'] \n",
        "    attention_mask = encoded_dict['attention_mask'] # differentiate padding from non padding \n",
        "    token_type_id = encoded_dict['token_type_ids'] # differentiate two sentences, not \"really\" necessary for now    \n",
        "    \n",
        "    if len(input_id) > 512: # head + tail methodology \n",
        "        input_id = input_id[:129] + input_id[-383:] \n",
        "        attention_mask = attention_mask[:129] + attention_mask[-383:]  \n",
        "        token_type_id = token_type_id[:129] + token_type_id[-383:]    \n",
        "        print(\"Long Text!! Using Head+Tail Truncation\")\n",
        "    elif len(input_id) <= 512: \n",
        "        input_id = input_id + [0]*(512 - len(input_id)) \n",
        "        attention_mask = attention_mask + [0]*(512 - len(attention_mask))\n",
        "        token_type_id = token_type_id + [0]*(512 - len(token_type_id))  \n",
        "        \n",
        "    return input_id, attention_mask, token_type_id\n"
      ],
      "execution_count": 15,
      "outputs": [
        {
          "output_type": "display_data",
          "data": {
            "application/vnd.jupyter.widget-view+json": {
              "model_id": "0099a78f661747d1ab8308bfedff955a",
              "version_minor": 0,
              "version_major": 2
            },
            "text/plain": [
              "HBox(children=(FloatProgress(value=0.0, description='Downloading', max=263326.0, style=ProgressStyle(descripti…"
            ]
          },
          "metadata": {
            "tags": []
          }
        },
        {
          "output_type": "stream",
          "text": [
            "\n"
          ],
          "name": "stdout"
        },
        {
          "output_type": "display_data",
          "data": {
            "application/vnd.jupyter.widget-view+json": {
              "model_id": "bd6f2e9231424d7b8f1e34f577eed6c9",
              "version_minor": 0,
              "version_major": 2
            },
            "text/plain": [
              "HBox(children=(FloatProgress(value=0.0, description='Downloading', max=61.0, style=ProgressStyle(description_w…"
            ]
          },
          "metadata": {
            "tags": []
          }
        },
        {
          "output_type": "stream",
          "text": [
            "\n"
          ],
          "name": "stdout"
        }
      ]
    },
    {
      "cell_type": "code",
      "metadata": {
        "colab": {
          "base_uri": "https://localhost:8080/"
        },
        "id": "gAbImGdQcne9",
        "outputId": "49645561-1852-4032-fe83-54c3687e33a2"
      },
      "source": [
        "electra_probsum = [] \n",
        "electra_chunkparts = [] \n",
        "\n",
        "# change to eval mode \n",
        "test_electra.eval() \n",
        "\n",
        "for i in tqdm(range(test_contents.shape[0]), position=0, leave=True):\n",
        "    f1 = clean_text(str(test_feature1[i])) \n",
        "    f2 = clean_text(str(test_feature2[i])) \n",
        "    f3 = clean_text(str(test_feature3[i])) \n",
        "    f4 = clean_text(str(test_feature4[i])) \n",
        "    f5 = str(test_feature5[i])  \n",
        "    splitted = split_text(clean_text(str(test_contents[i]))) \n",
        "    # make predictions for each splitted text \n",
        "    probabilities_electra = [] # store probabilities for electra \n",
        "    for text in splitted: \n",
        "        test_text = f1 + \" \" + f2 + \" \" + f3 + \" \" + f4 + \" \" + f5 + \" \" + text \n",
        "        # tokenize test text \n",
        "        input_id, attention_mask, token_type_ids = electra_tokenizer(test_text, MAX_LEN=MAX_LEN) \n",
        "        input_id = torch.tensor(input_id)\n",
        "        attention_mask = torch.tensor(attention_mask) \n",
        "        token_type_ids = torch.tensor(token_type_ids) \n",
        "        # reshape into (batch, MAX_LEN)\n",
        "        input_id = torch.reshape(input_id, (-1, MAX_LEN)) \n",
        "        attention_mask = torch.reshape(attention_mask, (-1, MAX_LEN)) \n",
        "        token_type_ids = torch.reshape(token_type_ids, (-1, MAX_LEN)) \n",
        "        # move tensor to cuda \n",
        "        input_id = input_id.to(device) \n",
        "        attention_mask = attention_mask.to(device) \n",
        "        token_type_ids = token_type_ids.to(device) \n",
        "        with torch.no_grad(): \n",
        "            outputs = test_electra(input_id, \n",
        "                                   token_type_ids=token_type_ids,\n",
        "                                   attention_mask = attention_mask)\n",
        "\n",
        "        logits = outputs[0]\n",
        "        \n",
        "        # obtain softmax probabilities  \n",
        "        prob = nnf.softmax(logits, dim=1).flatten() \n",
        "        probabilities_electra.append(prob)  \n",
        "\n",
        "    # soft voting \n",
        "    prob_sum = np.zeros(46) \n",
        "    for i in range(len(probabilities_electra)):  \n",
        "      for j in range(46): \n",
        "        prob_sum[j] += probabilities_electra[i][j]   \n",
        "    \n",
        "    electra_probsum.append(prob_sum) \n",
        "    electra_chunkparts.append(len(probabilities_electra))\n",
        "\n",
        "\n",
        "electra_probsum = np.asarray(electra_probsum) \n",
        "electra_chunkparts = np.asarray(electra_chunkparts)\n",
        "\n",
        "print(\"saving predicted probabilities values\") \n",
        "np.save('./drive/MyDrive/dacon_NLP/electra_probsum.npy', electra_probsum) \n",
        "np.save('./drive/MyDrive/dacon_NLP/electra_chunkparts.npy', electra_chunkparts)\n"
      ],
      "execution_count": 16,
      "outputs": [
        {
          "output_type": "stream",
          "text": [
            "  7%|▋         | 3140/43576 [11:47<2:51:19,  3.93it/s]Token indices sequence length is longer than the specified maximum sequence length for this model (530 > 512). Running this sequence through the model will result in indexing errors\n",
            "  7%|▋         | 3141/43576 [11:47<2:31:14,  4.46it/s]"
          ],
          "name": "stderr"
        },
        {
          "output_type": "stream",
          "text": [
            "Long Text!! Using Head+Tail Truncation\n",
            "Long Text!! Using Head+Tail Truncation\n",
            "Long Text!! Using Head+Tail Truncation\n",
            "Long Text!! Using Head+Tail Truncation\n",
            "Long Text!! Using Head+Tail Truncation\n"
          ],
          "name": "stdout"
        },
        {
          "output_type": "stream",
          "text": [
            " 20%|█▉        | 8594/43576 [32:26<2:28:54,  3.92it/s]"
          ],
          "name": "stderr"
        },
        {
          "output_type": "stream",
          "text": [
            "Long Text!! Using Head+Tail Truncation\n"
          ],
          "name": "stdout"
        },
        {
          "output_type": "stream",
          "text": [
            " 29%|██▊       | 12438/43576 [46:48<1:44:19,  4.97it/s]"
          ],
          "name": "stderr"
        },
        {
          "output_type": "stream",
          "text": [
            "Long Text!! Using Head+Tail Truncation\n"
          ],
          "name": "stdout"
        },
        {
          "output_type": "stream",
          "text": [
            " 40%|████      | 17522/43576 [1:05:35<1:50:38,  3.92it/s]"
          ],
          "name": "stderr"
        },
        {
          "output_type": "stream",
          "text": [
            "Long Text!! Using Head+Tail Truncation\n"
          ],
          "name": "stdout"
        },
        {
          "output_type": "stream",
          "text": [
            " 60%|██████    | 26322/43576 [1:38:12<2:03:45,  2.32it/s]"
          ],
          "name": "stderr"
        },
        {
          "output_type": "stream",
          "text": [
            "Long Text!! Using Head+Tail Truncation\n"
          ],
          "name": "stdout"
        },
        {
          "output_type": "stream",
          "text": [
            "\r 60%|██████    | 26323/43576 [1:38:12<2:17:42,  2.09it/s]"
          ],
          "name": "stderr"
        },
        {
          "output_type": "stream",
          "text": [
            "Long Text!! Using Head+Tail Truncation\n",
            "Long Text!! Using Head+Tail Truncation\n"
          ],
          "name": "stdout"
        },
        {
          "output_type": "stream",
          "text": [
            " 62%|██████▏   | 27182/43576 [1:41:18<49:33,  5.51it/s]"
          ],
          "name": "stderr"
        },
        {
          "output_type": "stream",
          "text": [
            "Long Text!! Using Head+Tail Truncation\n",
            "Long Text!! Using Head+Tail Truncation\n",
            "Long Text!! Using Head+Tail Truncation\n"
          ],
          "name": "stdout"
        },
        {
          "output_type": "stream",
          "text": [
            "100%|██████████| 43576/43576 [2:42:42<00:00,  4.46it/s]"
          ],
          "name": "stderr"
        },
        {
          "output_type": "stream",
          "text": [
            "saving predicted probabilities values\n"
          ],
          "name": "stdout"
        },
        {
          "output_type": "stream",
          "text": [
            "\n"
          ],
          "name": "stderr"
        }
      ]
    },
    {
      "cell_type": "code",
      "metadata": {
        "id": "Y_N3GrTBcsbC"
      },
      "source": [
        ""
      ],
      "execution_count": null,
      "outputs": []
    }
  ]
}